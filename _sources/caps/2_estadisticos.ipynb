{
 "cells": [
  {
   "attachments": {},
   "cell_type": "markdown",
   "metadata": {},
   "source": [
    "# Estadística descriptiva básica\n",
    "\n",
    "## Estadísticos\n",
    "\n",
    "## Visualización\n",
    "\n",
    "## Pruebas de normalidad\n",
    "\n",
    "## Paramétricos y no paramétricos\n",
    "\n",
    "## Pruebas de correlación"
   ]
  }
 ],
 "metadata": {
  "language_info": {
   "name": "python"
  },
  "orig_nbformat": 4
 },
 "nbformat": 4,
 "nbformat_minor": 2
}
