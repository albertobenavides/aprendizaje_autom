{
 "cells": [
  {
   "attachments": {},
   "cell_type": "markdown",
   "metadata": {
    "slideshow": {
     "slide_type": "slide"
    }
   },
   "source": [
    "# Tareas"
   ]
  },
  {
   "cell_type": "markdown",
   "metadata": {},
   "source": [
    "## Tarea 1 (10 puntos)\n",
    "\n",
    "- Crear repositorio para el curso que contenga \n",
    "    - un `read.me` con una breve descripción de tu repositorio para este curso (primer *commit*), y\n",
    "    - un archivo Jupyter para la primera tarea con un ejemplo de regresión lineal o correlación hecho en puro Python (segundo *commit*)\n",
    "- Definir un conjunto de datos sobre el que se trabajará durante el curso\n",
    "- Justificar su elección\n",
    "- Establecer objetivos a lograr en el curso\n",
    "- Subir explicación en el repositorio en un cuaderno de Jupyter"
   ]
  },
  {
   "cell_type": "markdown",
   "metadata": {},
   "source": [
    "## Tarea 2 (10 puntos)\n",
    "\n",
    "- Cargar conjunto de datos mediante `pandas`\n",
    "- Especificar el tipo de datos de cada columna\n",
    "- Si es necesario, asignar una columna como índice\n",
    "- Crear, modificar o eliminar columnas\n",
    "- Filtrar registros\n",
    "- Crear subconjutos de datos\n",
    "- Crear grupos de datos"
   ]
  },
  {
   "cell_type": "markdown",
   "metadata": {},
   "source": [
    "## Tarea \n",
    "### En clase (2 puntos)\n",
    "\n",
    "- Crear funciones para calcular las medidas de tendencia central y de dispersión con Python puro (sin librerías)\n",
    "- Comprueba si tus variables de interés son conjuntos de datos paramétricos o no paramétricos\n",
    "\n",
    "### Tarea 3 (8 puntos)\n",
    "\n",
    "- Calcula estadísticos descriptivos básicos para tus datos\n",
    "- Haz una matriz de correlación de tus datos y escribe algunas interpretaciones de la misma\n",
    "- Realiza alguna prueba de hipótesis a partir de las conclusiones que hayas sacado de la matriz de correlación\n",
    "- Presenta tus resultados gráficamente"
   ]
  }
 ],
 "metadata": {
  "kernelspec": {
   "display_name": "ds",
   "language": "python",
   "name": "python3"
  },
  "language_info": {
   "codemirror_mode": {
    "name": "ipython",
    "version": 3
   },
   "file_extension": ".py",
   "mimetype": "text/x-python",
   "name": "python",
   "nbconvert_exporter": "python",
   "pygments_lexer": "ipython3",
   "version": "3.12.0"
  },
  "orig_nbformat": 4,
  "vscode": {
   "interpreter": {
    "hash": "73cfb11ebb5098915952b858e6200bb38d79de5587d8fc0575441f97863c5189"
   }
  }
 },
 "nbformat": 4,
 "nbformat_minor": 2
}
