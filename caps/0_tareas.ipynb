{
 "cells": [
  {
   "attachments": {},
   "cell_type": "markdown",
   "metadata": {
    "slideshow": {
     "slide_type": "slide"
    }
   },
   "source": [
    "# Tareas"
   ]
  },
  {
   "cell_type": "markdown",
   "metadata": {},
   "source": [
    "## Tarea 1 (10 puntos)\n",
    "\n",
    "- Crear repositorio para el curso que contenga \n",
    "    - un `read.me` con una breve descripción de tu repositorio para este curso (primer *commit*), y\n",
    "    - un archivo Jupyter para la primera tarea con un ejemplo de regresión lineal o correlación hecho en puro Python (segundo *commit*)\n",
    "- Definir un conjunto de datos sobre el que se trabajará durante el curso\n",
    "- Justificar su elección\n",
    "- Establecer objetivos a lograr en el curso\n",
    "- Subir explicación en el repositorio en un cuaderno de Jupyter"
   ]
  },
  {
   "cell_type": "markdown",
   "metadata": {},
   "source": [
    "## Tarea 2 (10 puntos)\n",
    "- Cargar conjunto de datos mediante `pandas`\n",
    "- Especificar el tipo de datos de cada columna\n",
    "- Si es necesario, asignar una columna como índice\n",
    "- Crear, modificar o eliminar columnas\n",
    "- Filtrar registros\n",
    "- Crear subconjutos de datos\n",
    "- Crear grupos de datos"
   ]
  },
  {
   "cell_type": "markdown",
   "metadata": {},
   "source": [
    "## Tarea 3 (10 puntos)\n",
    "- Crear funciones para calcular las medidas de tendencia central y de dispersión con Python puro (sin librerías)\n",
    "- Comprueba si tus variables de interés son conjuntos de datos paramétricos o no paramétricos\n",
    "- Calcula estadísticos descriptivos básicos para tus datos\n",
    "- Haz una matriz de correlación de tus datos y escribe algunas interpretaciones de la misma\n",
    "- Realiza alguna prueba de hipótesis a partir de las conclusiones que hayas sacado de la matriz de correlación\n",
    "- Presenta tus resultados gráficamente"
   ]
  },
  {
   "cell_type": "markdown",
   "metadata": {},
   "source": [
    "## Tarea 4 (10 puntos)\n",
    "- Aplica algún método de filtro a tus datos mediante el uso de [SelectKBest](https://scikit-learn.org/stable/modules/generated/sklearn.feature_selection.SelectKBest.html)\n",
    "- Aplica los modelos de selección de características cuidando los supuestos de cada modelo\n",
    "- Busca una o varias métricas para seleccionar características en literatura relacionada con tu problema (cita tus fuentes)\n",
    "- Con base en tu investigación, determina las características más relevantes de tu conjunto de datos\n",
    "- Discute por qué crees que las características seleccionadas son las más relevantes y por qué el resto quedaron excluidas en la selección"
   ]
  },
  {
   "cell_type": "markdown",
   "metadata": {
    "vscode": {
     "languageId": "plaintext"
    }
   },
   "source": [
    "## Tarea 5 (10 puntos)\n",
    "- Investigar sobre algún otro algoritmo no supervisado que pueda usarse en tu código. Da un panorama sobre el modelo matemático que emplea y explica por qué conviene aplicarlo a tus datos. Algunos modelos que no se vieron en clase son *Affinity Propagation*, BIRCH, DBSCAN, *Mean Shift*, *Nearest Neighbors*, OPTICS, *Spectral Clustering*, TSNE, entre otros\n",
    "- Investigar otras estrategias para determinar número de grupos en estos algoritmos (como los índices de Calinski-Harabasz o de Davies-Bouldin), elegir la más adecuada al método que elegiste\n",
    "- Aplicar al menos un algoritmo no supervisado a tus datos para encontrar estructuras subyacentes\n",
    "- Elegir alguna métrica para determinar número de grupos, usarla y discutirla\n",
    "- Busca alguna revista científica que publique trabajos relacionados con el tuyo\n",
    "- Crea artículo mediante Latex con base en los lineamientos de la revista elegida y redacta ahí tus resultados, discusiones y bibliografía\n",
    "- Sube el código de tu tarea, los archivos de Latex y el PDF del artículo en tu repositorio, claramente diferenciados"
   ]
  },
  {
   "cell_type": "markdown",
   "metadata": {
    "vscode": {
     "languageId": "plaintext"
    }
   },
   "source": [
    "## Tarea 6 (10 puntos)\n",
    "\n",
    "- Investigar sobre algoritmos supervisados que puedan aplicarse a tu problema. Da un panorama sobre el modelo matemático que emplean y explica por qué conviene utilizarlo\n",
    "- Investigar sobre métricas para analizar los errores de tus datos y discutirla (generalmente se usan MAE, MAPE, RMSE, MSE...)\n",
    "- Aplicar al menos un algoritmo supervisado a tus datos para predecir alguna variable (puede ser interpolación o extrapolación)\n",
    "- Actualiza literatura relacionada, metodología, resultados y discusión en tu artículo\n",
    "- Sube el código de tu tarea, los archivos de Latex y el PDF del artículo en tu repositorio, claramente diferenciados"
   ]
  },
  {
   "cell_type": "markdown",
   "metadata": {
    "vscode": {
     "languageId": "plaintext"
    }
   },
   "source": [
    "## Tarea 7 (10 puntos)\n",
    "\n",
    "- Generar la parte de metodología del artículo, explicando los métodos usados con base en la literatura que los sustenta."
   ]
  },
  {
   "cell_type": "markdown",
   "metadata": {
    "vscode": {
     "languageId": "plaintext"
    }
   },
   "source": [
    "## Tarea 8 (10 puntos)\n",
    "\n",
    "- Revisa en la literatura las métricas de desempeño que se utilizan en tu problema.\n",
    "- Elige al menos una métrica para aplicar a tus modelos.\n",
    "- Reporta estos hallazgos en el marco teórico de tu artículo."
   ]
  },
  {
   "cell_type": "markdown",
   "metadata": {
    "vscode": {
     "languageId": "plaintext"
    }
   },
   "source": [
    "## Tarea 9 (10 puntos)\n",
    "\n",
    "- Realizar un diseño de experimentos para tu problema de estudio en la que indiques los niveles y tratamientos de interés.\n",
    "- Prepara una breve presentación (máximo 10 minutos y 10 diapositivas) en la que se destaquen tus resultados para presentar la siguiente clase."
   ]
  },
  {
   "cell_type": "markdown",
   "metadata": {
    "vscode": {
     "languageId": "plaintext"
    }
   },
   "source": [
    "## Tarea 10 (10 puntos)\n",
    "\n",
    "- Reporta tus resultados y discútelos en las conclusiones."
   ]
  },
  {
   "cell_type": "markdown",
   "metadata": {
    "vscode": {
     "languageId": "plaintext"
    }
   },
   "source": [
    "## Proyecto integrador de aprendizaje\n",
    "\n",
    "- Sube a tu repositorio tu artículo completo."
   ]
  }
 ],
 "metadata": {
  "kernelspec": {
   "display_name": "ds",
   "language": "python",
   "name": "python3"
  },
  "language_info": {
   "codemirror_mode": {
    "name": "ipython",
    "version": 3
   },
   "file_extension": ".py",
   "mimetype": "text/x-python",
   "name": "python",
   "nbconvert_exporter": "python",
   "pygments_lexer": "ipython3",
   "version": "3.12.0"
  },
  "orig_nbformat": 4,
  "vscode": {
   "interpreter": {
    "hash": "73cfb11ebb5098915952b858e6200bb38d79de5587d8fc0575441f97863c5189"
   }
  }
 },
 "nbformat": 4,
 "nbformat_minor": 2
}
