{
 "cells": [
  {
   "attachments": {},
   "cell_type": "markdown",
   "metadata": {},
   "source": [
    "# Selección de características\n",
    "\n",
    "Técnica utilizada para eliminar características que sean estadísticamente redundantes o aporten poca información a los modelos. Como consecuencia, suelen disminuir tiempos de entrenamiento de modelos con muchas características e incluso mejorar sus resultados."
   ]
  },
  {
   "attachments": {},
   "cell_type": "markdown",
   "metadata": {},
   "source": [
    "## Métodos de filtro\n",
    "\n",
    "Usan estadísticos para determinar umbrales sobre los que elegir características. Suelen ser más rápidos que otros métodos, mas no suelen incluir interacción entre variables."
   ]
  },
  {
   "attachments": {},
   "cell_type": "markdown",
   "metadata": {},
   "source": [
    "### ANOVA de valor $F$\n",
    "\n",
    "Determina linealidad entre variables de entrada y salida. Un valor $F$ alto, indica alta relación lineal; valores menores, lo contrario."
   ]
  },
  {
   "attachments": {},
   "cell_type": "markdown",
   "metadata": {},
   "source": [
    "Primero cargamos los paquetes."
   ]
  },
  {
   "cell_type": "code",
   "execution_count": 1,
   "metadata": {},
   "outputs": [],
   "source": [
    "import pandas as pd\n",
    "\n",
    "import matplotlib.pyplot as plt\n",
    "\n",
    "# Ignorar advertencias\n",
    "import warnings\n",
    "warnings.filterwarnings('ignore')"
   ]
  },
  {
   "attachments": {},
   "cell_type": "markdown",
   "metadata": {},
   "source": [
    "Luego los datos."
   ]
  },
  {
   "cell_type": "code",
   "execution_count": 2,
   "metadata": {},
   "outputs": [
    {
     "data": {
      "text/html": [
       "<div>\n",
       "<style scoped>\n",
       "    .dataframe tbody tr th:only-of-type {\n",
       "        vertical-align: middle;\n",
       "    }\n",
       "\n",
       "    .dataframe tbody tr th {\n",
       "        vertical-align: top;\n",
       "    }\n",
       "\n",
       "    .dataframe thead th {\n",
       "        text-align: right;\n",
       "    }\n",
       "</style>\n",
       "<table border=\"1\" class=\"dataframe\">\n",
       "  <thead>\n",
       "    <tr style=\"text-align: right;\">\n",
       "      <th></th>\n",
       "      <th>station</th>\n",
       "      <th>abbr</th>\n",
       "      <th>lat</th>\n",
       "      <th>lon</th>\n",
       "      <th>h</th>\n",
       "      <th>timestamp</th>\n",
       "      <th>CO</th>\n",
       "      <th>NO</th>\n",
       "      <th>NO2</th>\n",
       "      <th>NOX</th>\n",
       "      <th>...</th>\n",
       "      <th>PM10</th>\n",
       "      <th>PM2_5</th>\n",
       "      <th>BP</th>\n",
       "      <th>RF</th>\n",
       "      <th>RH</th>\n",
       "      <th>SO2</th>\n",
       "      <th>SR</th>\n",
       "      <th>T</th>\n",
       "      <th>WV</th>\n",
       "      <th>WD</th>\n",
       "    </tr>\n",
       "  </thead>\n",
       "  <tbody>\n",
       "    <tr>\n",
       "      <th>1420</th>\n",
       "      <td>Centro</td>\n",
       "      <td>C</td>\n",
       "      <td>25.670</td>\n",
       "      <td>-100.338</td>\n",
       "      <td>560</td>\n",
       "      <td>2017-03-01 04:00:00</td>\n",
       "      <td>2.48</td>\n",
       "      <td>3.7</td>\n",
       "      <td>13.6</td>\n",
       "      <td>17.3</td>\n",
       "      <td>...</td>\n",
       "      <td>98.0</td>\n",
       "      <td>34.0</td>\n",
       "      <td>709.4</td>\n",
       "      <td>0.0</td>\n",
       "      <td>56.0</td>\n",
       "      <td>4.0</td>\n",
       "      <td>0.003</td>\n",
       "      <td>22.43</td>\n",
       "      <td>1.7</td>\n",
       "      <td>256.0</td>\n",
       "    </tr>\n",
       "    <tr>\n",
       "      <th>1421</th>\n",
       "      <td>Centro</td>\n",
       "      <td>C</td>\n",
       "      <td>25.670</td>\n",
       "      <td>-100.338</td>\n",
       "      <td>560</td>\n",
       "      <td>2017-03-01 05:00:00</td>\n",
       "      <td>2.40</td>\n",
       "      <td>2.5</td>\n",
       "      <td>10.9</td>\n",
       "      <td>13.4</td>\n",
       "      <td>...</td>\n",
       "      <td>87.0</td>\n",
       "      <td>33.0</td>\n",
       "      <td>709.5</td>\n",
       "      <td>0.0</td>\n",
       "      <td>61.0</td>\n",
       "      <td>3.8</td>\n",
       "      <td>0.003</td>\n",
       "      <td>21.78</td>\n",
       "      <td>1.5</td>\n",
       "      <td>242.0</td>\n",
       "    </tr>\n",
       "    <tr>\n",
       "      <th>1422</th>\n",
       "      <td>Centro</td>\n",
       "      <td>C</td>\n",
       "      <td>25.670</td>\n",
       "      <td>-100.338</td>\n",
       "      <td>560</td>\n",
       "      <td>2017-03-01 06:00:00</td>\n",
       "      <td>2.41</td>\n",
       "      <td>3.1</td>\n",
       "      <td>11.8</td>\n",
       "      <td>14.8</td>\n",
       "      <td>...</td>\n",
       "      <td>81.0</td>\n",
       "      <td>77.0</td>\n",
       "      <td>709.9</td>\n",
       "      <td>0.0</td>\n",
       "      <td>60.0</td>\n",
       "      <td>3.9</td>\n",
       "      <td>0.003</td>\n",
       "      <td>21.59</td>\n",
       "      <td>1.9</td>\n",
       "      <td>235.0</td>\n",
       "    </tr>\n",
       "    <tr>\n",
       "      <th>1426</th>\n",
       "      <td>Centro</td>\n",
       "      <td>C</td>\n",
       "      <td>25.670</td>\n",
       "      <td>-100.338</td>\n",
       "      <td>560</td>\n",
       "      <td>2017-03-01 10:00:00</td>\n",
       "      <td>2.57</td>\n",
       "      <td>5.8</td>\n",
       "      <td>8.5</td>\n",
       "      <td>14.3</td>\n",
       "      <td>...</td>\n",
       "      <td>158.0</td>\n",
       "      <td>23.0</td>\n",
       "      <td>712.3</td>\n",
       "      <td>0.0</td>\n",
       "      <td>35.0</td>\n",
       "      <td>3.8</td>\n",
       "      <td>0.308</td>\n",
       "      <td>25.93</td>\n",
       "      <td>12.2</td>\n",
       "      <td>34.0</td>\n",
       "    </tr>\n",
       "    <tr>\n",
       "      <th>1427</th>\n",
       "      <td>Centro</td>\n",
       "      <td>C</td>\n",
       "      <td>25.670</td>\n",
       "      <td>-100.338</td>\n",
       "      <td>560</td>\n",
       "      <td>2017-03-01 11:00:00</td>\n",
       "      <td>2.39</td>\n",
       "      <td>4.0</td>\n",
       "      <td>5.1</td>\n",
       "      <td>9.1</td>\n",
       "      <td>...</td>\n",
       "      <td>268.0</td>\n",
       "      <td>167.0</td>\n",
       "      <td>713.3</td>\n",
       "      <td>0.0</td>\n",
       "      <td>29.0</td>\n",
       "      <td>3.6</td>\n",
       "      <td>0.626</td>\n",
       "      <td>26.21</td>\n",
       "      <td>13.7</td>\n",
       "      <td>25.0</td>\n",
       "    </tr>\n",
       "    <tr>\n",
       "      <th>...</th>\n",
       "      <td>...</td>\n",
       "      <td>...</td>\n",
       "      <td>...</td>\n",
       "      <td>...</td>\n",
       "      <td>...</td>\n",
       "      <td>...</td>\n",
       "      <td>...</td>\n",
       "      <td>...</td>\n",
       "      <td>...</td>\n",
       "      <td>...</td>\n",
       "      <td>...</td>\n",
       "      <td>...</td>\n",
       "      <td>...</td>\n",
       "      <td>...</td>\n",
       "      <td>...</td>\n",
       "      <td>...</td>\n",
       "      <td>...</td>\n",
       "      <td>...</td>\n",
       "      <td>...</td>\n",
       "      <td>...</td>\n",
       "      <td>...</td>\n",
       "    </tr>\n",
       "    <tr>\n",
       "      <th>341276</th>\n",
       "      <td>Suroeste2</td>\n",
       "      <td>SO2</td>\n",
       "      <td>25.665</td>\n",
       "      <td>-100.413</td>\n",
       "      <td>636</td>\n",
       "      <td>2019-12-17 09:00:00</td>\n",
       "      <td>2.01</td>\n",
       "      <td>1.1</td>\n",
       "      <td>1.0</td>\n",
       "      <td>2.1</td>\n",
       "      <td>...</td>\n",
       "      <td>19.0</td>\n",
       "      <td>4.0</td>\n",
       "      <td>717.5</td>\n",
       "      <td>0.0</td>\n",
       "      <td>44.0</td>\n",
       "      <td>3.0</td>\n",
       "      <td>0.033</td>\n",
       "      <td>9.17</td>\n",
       "      <td>3.8</td>\n",
       "      <td>88.0</td>\n",
       "    </tr>\n",
       "    <tr>\n",
       "      <th>341279</th>\n",
       "      <td>Suroeste2</td>\n",
       "      <td>SO2</td>\n",
       "      <td>25.665</td>\n",
       "      <td>-100.413</td>\n",
       "      <td>636</td>\n",
       "      <td>2019-12-17 12:00:00</td>\n",
       "      <td>2.05</td>\n",
       "      <td>1.2</td>\n",
       "      <td>1.0</td>\n",
       "      <td>2.2</td>\n",
       "      <td>...</td>\n",
       "      <td>37.0</td>\n",
       "      <td>7.0</td>\n",
       "      <td>717.6</td>\n",
       "      <td>0.0</td>\n",
       "      <td>36.0</td>\n",
       "      <td>2.7</td>\n",
       "      <td>0.468</td>\n",
       "      <td>11.31</td>\n",
       "      <td>2.6</td>\n",
       "      <td>77.0</td>\n",
       "    </tr>\n",
       "    <tr>\n",
       "      <th>341302</th>\n",
       "      <td>Suroeste2</td>\n",
       "      <td>SO2</td>\n",
       "      <td>25.665</td>\n",
       "      <td>-100.413</td>\n",
       "      <td>636</td>\n",
       "      <td>2019-12-18 11:00:00</td>\n",
       "      <td>2.06</td>\n",
       "      <td>1.0</td>\n",
       "      <td>1.1</td>\n",
       "      <td>2.1</td>\n",
       "      <td>...</td>\n",
       "      <td>32.0</td>\n",
       "      <td>6.0</td>\n",
       "      <td>718.9</td>\n",
       "      <td>0.0</td>\n",
       "      <td>27.0</td>\n",
       "      <td>5.1</td>\n",
       "      <td>0.443</td>\n",
       "      <td>8.63</td>\n",
       "      <td>0.7</td>\n",
       "      <td>69.0</td>\n",
       "    </tr>\n",
       "    <tr>\n",
       "      <th>341303</th>\n",
       "      <td>Suroeste2</td>\n",
       "      <td>SO2</td>\n",
       "      <td>25.665</td>\n",
       "      <td>-100.413</td>\n",
       "      <td>636</td>\n",
       "      <td>2019-12-18 12:00:00</td>\n",
       "      <td>2.05</td>\n",
       "      <td>1.0</td>\n",
       "      <td>1.3</td>\n",
       "      <td>2.3</td>\n",
       "      <td>...</td>\n",
       "      <td>37.0</td>\n",
       "      <td>4.0</td>\n",
       "      <td>718.6</td>\n",
       "      <td>0.0</td>\n",
       "      <td>25.0</td>\n",
       "      <td>9.0</td>\n",
       "      <td>0.532</td>\n",
       "      <td>9.65</td>\n",
       "      <td>0.8</td>\n",
       "      <td>70.0</td>\n",
       "    </tr>\n",
       "    <tr>\n",
       "      <th>341327</th>\n",
       "      <td>Suroeste2</td>\n",
       "      <td>SO2</td>\n",
       "      <td>25.665</td>\n",
       "      <td>-100.413</td>\n",
       "      <td>636</td>\n",
       "      <td>2019-12-19 12:00:00</td>\n",
       "      <td>2.43</td>\n",
       "      <td>1.0</td>\n",
       "      <td>1.8</td>\n",
       "      <td>2.8</td>\n",
       "      <td>...</td>\n",
       "      <td>71.0</td>\n",
       "      <td>12.0</td>\n",
       "      <td>717.0</td>\n",
       "      <td>0.0</td>\n",
       "      <td>27.0</td>\n",
       "      <td>6.1</td>\n",
       "      <td>0.511</td>\n",
       "      <td>10.77</td>\n",
       "      <td>0.7</td>\n",
       "      <td>71.0</td>\n",
       "    </tr>\n",
       "  </tbody>\n",
       "</table>\n",
       "<p>17922 rows × 21 columns</p>\n",
       "</div>"
      ],
      "text/plain": [
       "          station abbr     lat      lon    h           timestamp    CO   NO  \\\n",
       "1420       Centro    C  25.670 -100.338  560 2017-03-01 04:00:00  2.48  3.7   \n",
       "1421       Centro    C  25.670 -100.338  560 2017-03-01 05:00:00  2.40  2.5   \n",
       "1422       Centro    C  25.670 -100.338  560 2017-03-01 06:00:00  2.41  3.1   \n",
       "1426       Centro    C  25.670 -100.338  560 2017-03-01 10:00:00  2.57  5.8   \n",
       "1427       Centro    C  25.670 -100.338  560 2017-03-01 11:00:00  2.39  4.0   \n",
       "...           ...  ...     ...      ...  ...                 ...   ...  ...   \n",
       "341276  Suroeste2  SO2  25.665 -100.413  636 2019-12-17 09:00:00  2.01  1.1   \n",
       "341279  Suroeste2  SO2  25.665 -100.413  636 2019-12-17 12:00:00  2.05  1.2   \n",
       "341302  Suroeste2  SO2  25.665 -100.413  636 2019-12-18 11:00:00  2.06  1.0   \n",
       "341303  Suroeste2  SO2  25.665 -100.413  636 2019-12-18 12:00:00  2.05  1.0   \n",
       "341327  Suroeste2  SO2  25.665 -100.413  636 2019-12-19 12:00:00  2.43  1.0   \n",
       "\n",
       "         NO2   NOX  ...   PM10  PM2_5     BP   RF    RH  SO2     SR      T  \\\n",
       "1420    13.6  17.3  ...   98.0   34.0  709.4  0.0  56.0  4.0  0.003  22.43   \n",
       "1421    10.9  13.4  ...   87.0   33.0  709.5  0.0  61.0  3.8  0.003  21.78   \n",
       "1422    11.8  14.8  ...   81.0   77.0  709.9  0.0  60.0  3.9  0.003  21.59   \n",
       "1426     8.5  14.3  ...  158.0   23.0  712.3  0.0  35.0  3.8  0.308  25.93   \n",
       "1427     5.1   9.1  ...  268.0  167.0  713.3  0.0  29.0  3.6  0.626  26.21   \n",
       "...      ...   ...  ...    ...    ...    ...  ...   ...  ...    ...    ...   \n",
       "341276   1.0   2.1  ...   19.0    4.0  717.5  0.0  44.0  3.0  0.033   9.17   \n",
       "341279   1.0   2.2  ...   37.0    7.0  717.6  0.0  36.0  2.7  0.468  11.31   \n",
       "341302   1.1   2.1  ...   32.0    6.0  718.9  0.0  27.0  5.1  0.443   8.63   \n",
       "341303   1.3   2.3  ...   37.0    4.0  718.6  0.0  25.0  9.0  0.532   9.65   \n",
       "341327   1.8   2.8  ...   71.0   12.0  717.0  0.0  27.0  6.1  0.511  10.77   \n",
       "\n",
       "          WV     WD  \n",
       "1420     1.7  256.0  \n",
       "1421     1.5  242.0  \n",
       "1422     1.9  235.0  \n",
       "1426    12.2   34.0  \n",
       "1427    13.7   25.0  \n",
       "...      ...    ...  \n",
       "341276   3.8   88.0  \n",
       "341279   2.6   77.0  \n",
       "341302   0.7   69.0  \n",
       "341303   0.8   70.0  \n",
       "341327   0.7   71.0  \n",
       "\n",
       "[17922 rows x 21 columns]"
      ]
     },
     "execution_count": 2,
     "metadata": {},
     "output_type": "execute_result"
    }
   ],
   "source": [
    "df_pollutants_coords = pd.read_csv('../data/results/df_pollutants_coords.csv')\n",
    "df_pollutants_coords.timestamp = pd.to_datetime(df_pollutants_coords.timestamp)\n",
    "df_pollutants_coords.dropna(inplace = True)\n",
    "df_pollutants_coords"
   ]
  },
  {
   "attachments": {},
   "cell_type": "markdown",
   "metadata": {},
   "source": [
    "Para esta sesión, se busca explicar el contaminante $\\text{PM}_{10}$ como $Y$ a partir de las variables atmosféricas $X$, independientes del tiempo y geolocalización."
   ]
  },
  {
   "cell_type": "code",
   "execution_count": 3,
   "metadata": {},
   "outputs": [
    {
     "data": {
      "text/html": [
       "<div>\n",
       "<style scoped>\n",
       "    .dataframe tbody tr th:only-of-type {\n",
       "        vertical-align: middle;\n",
       "    }\n",
       "\n",
       "    .dataframe tbody tr th {\n",
       "        vertical-align: top;\n",
       "    }\n",
       "\n",
       "    .dataframe thead th {\n",
       "        text-align: right;\n",
       "    }\n",
       "</style>\n",
       "<table border=\"1\" class=\"dataframe\">\n",
       "  <thead>\n",
       "    <tr style=\"text-align: right;\">\n",
       "      <th></th>\n",
       "      <th>PM10</th>\n",
       "    </tr>\n",
       "  </thead>\n",
       "  <tbody>\n",
       "    <tr>\n",
       "      <th>1420</th>\n",
       "      <td>98.0</td>\n",
       "    </tr>\n",
       "    <tr>\n",
       "      <th>1421</th>\n",
       "      <td>87.0</td>\n",
       "    </tr>\n",
       "    <tr>\n",
       "      <th>1422</th>\n",
       "      <td>81.0</td>\n",
       "    </tr>\n",
       "    <tr>\n",
       "      <th>1426</th>\n",
       "      <td>158.0</td>\n",
       "    </tr>\n",
       "    <tr>\n",
       "      <th>1427</th>\n",
       "      <td>268.0</td>\n",
       "    </tr>\n",
       "    <tr>\n",
       "      <th>...</th>\n",
       "      <td>...</td>\n",
       "    </tr>\n",
       "    <tr>\n",
       "      <th>341276</th>\n",
       "      <td>19.0</td>\n",
       "    </tr>\n",
       "    <tr>\n",
       "      <th>341279</th>\n",
       "      <td>37.0</td>\n",
       "    </tr>\n",
       "    <tr>\n",
       "      <th>341302</th>\n",
       "      <td>32.0</td>\n",
       "    </tr>\n",
       "    <tr>\n",
       "      <th>341303</th>\n",
       "      <td>37.0</td>\n",
       "    </tr>\n",
       "    <tr>\n",
       "      <th>341327</th>\n",
       "      <td>71.0</td>\n",
       "    </tr>\n",
       "  </tbody>\n",
       "</table>\n",
       "<p>17922 rows × 1 columns</p>\n",
       "</div>"
      ],
      "text/plain": [
       "         PM10\n",
       "1420     98.0\n",
       "1421     87.0\n",
       "1422     81.0\n",
       "1426    158.0\n",
       "1427    268.0\n",
       "...       ...\n",
       "341276   19.0\n",
       "341279   37.0\n",
       "341302   32.0\n",
       "341303   37.0\n",
       "341327   71.0\n",
       "\n",
       "[17922 rows x 1 columns]"
      ]
     },
     "execution_count": 3,
     "metadata": {},
     "output_type": "execute_result"
    }
   ],
   "source": [
    "y = df_pollutants_coords[['PM10']]\n",
    "y"
   ]
  },
  {
   "cell_type": "code",
   "execution_count": 4,
   "metadata": {},
   "outputs": [
    {
     "data": {
      "text/html": [
       "<div>\n",
       "<style scoped>\n",
       "    .dataframe tbody tr th:only-of-type {\n",
       "        vertical-align: middle;\n",
       "    }\n",
       "\n",
       "    .dataframe tbody tr th {\n",
       "        vertical-align: top;\n",
       "    }\n",
       "\n",
       "    .dataframe thead th {\n",
       "        text-align: right;\n",
       "    }\n",
       "</style>\n",
       "<table border=\"1\" class=\"dataframe\">\n",
       "  <thead>\n",
       "    <tr style=\"text-align: right;\">\n",
       "      <th></th>\n",
       "      <th>BP</th>\n",
       "      <th>RF</th>\n",
       "      <th>RH</th>\n",
       "      <th>SO2</th>\n",
       "      <th>SR</th>\n",
       "      <th>T</th>\n",
       "      <th>WV</th>\n",
       "      <th>WD</th>\n",
       "    </tr>\n",
       "  </thead>\n",
       "  <tbody>\n",
       "    <tr>\n",
       "      <th>1420</th>\n",
       "      <td>709.4</td>\n",
       "      <td>0.0</td>\n",
       "      <td>56.0</td>\n",
       "      <td>4.0</td>\n",
       "      <td>0.003</td>\n",
       "      <td>22.43</td>\n",
       "      <td>1.7</td>\n",
       "      <td>256.0</td>\n",
       "    </tr>\n",
       "    <tr>\n",
       "      <th>1421</th>\n",
       "      <td>709.5</td>\n",
       "      <td>0.0</td>\n",
       "      <td>61.0</td>\n",
       "      <td>3.8</td>\n",
       "      <td>0.003</td>\n",
       "      <td>21.78</td>\n",
       "      <td>1.5</td>\n",
       "      <td>242.0</td>\n",
       "    </tr>\n",
       "    <tr>\n",
       "      <th>1422</th>\n",
       "      <td>709.9</td>\n",
       "      <td>0.0</td>\n",
       "      <td>60.0</td>\n",
       "      <td>3.9</td>\n",
       "      <td>0.003</td>\n",
       "      <td>21.59</td>\n",
       "      <td>1.9</td>\n",
       "      <td>235.0</td>\n",
       "    </tr>\n",
       "    <tr>\n",
       "      <th>1426</th>\n",
       "      <td>712.3</td>\n",
       "      <td>0.0</td>\n",
       "      <td>35.0</td>\n",
       "      <td>3.8</td>\n",
       "      <td>0.308</td>\n",
       "      <td>25.93</td>\n",
       "      <td>12.2</td>\n",
       "      <td>34.0</td>\n",
       "    </tr>\n",
       "    <tr>\n",
       "      <th>1427</th>\n",
       "      <td>713.3</td>\n",
       "      <td>0.0</td>\n",
       "      <td>29.0</td>\n",
       "      <td>3.6</td>\n",
       "      <td>0.626</td>\n",
       "      <td>26.21</td>\n",
       "      <td>13.7</td>\n",
       "      <td>25.0</td>\n",
       "    </tr>\n",
       "    <tr>\n",
       "      <th>...</th>\n",
       "      <td>...</td>\n",
       "      <td>...</td>\n",
       "      <td>...</td>\n",
       "      <td>...</td>\n",
       "      <td>...</td>\n",
       "      <td>...</td>\n",
       "      <td>...</td>\n",
       "      <td>...</td>\n",
       "    </tr>\n",
       "    <tr>\n",
       "      <th>341276</th>\n",
       "      <td>717.5</td>\n",
       "      <td>0.0</td>\n",
       "      <td>44.0</td>\n",
       "      <td>3.0</td>\n",
       "      <td>0.033</td>\n",
       "      <td>9.17</td>\n",
       "      <td>3.8</td>\n",
       "      <td>88.0</td>\n",
       "    </tr>\n",
       "    <tr>\n",
       "      <th>341279</th>\n",
       "      <td>717.6</td>\n",
       "      <td>0.0</td>\n",
       "      <td>36.0</td>\n",
       "      <td>2.7</td>\n",
       "      <td>0.468</td>\n",
       "      <td>11.31</td>\n",
       "      <td>2.6</td>\n",
       "      <td>77.0</td>\n",
       "    </tr>\n",
       "    <tr>\n",
       "      <th>341302</th>\n",
       "      <td>718.9</td>\n",
       "      <td>0.0</td>\n",
       "      <td>27.0</td>\n",
       "      <td>5.1</td>\n",
       "      <td>0.443</td>\n",
       "      <td>8.63</td>\n",
       "      <td>0.7</td>\n",
       "      <td>69.0</td>\n",
       "    </tr>\n",
       "    <tr>\n",
       "      <th>341303</th>\n",
       "      <td>718.6</td>\n",
       "      <td>0.0</td>\n",
       "      <td>25.0</td>\n",
       "      <td>9.0</td>\n",
       "      <td>0.532</td>\n",
       "      <td>9.65</td>\n",
       "      <td>0.8</td>\n",
       "      <td>70.0</td>\n",
       "    </tr>\n",
       "    <tr>\n",
       "      <th>341327</th>\n",
       "      <td>717.0</td>\n",
       "      <td>0.0</td>\n",
       "      <td>27.0</td>\n",
       "      <td>6.1</td>\n",
       "      <td>0.511</td>\n",
       "      <td>10.77</td>\n",
       "      <td>0.7</td>\n",
       "      <td>71.0</td>\n",
       "    </tr>\n",
       "  </tbody>\n",
       "</table>\n",
       "<p>17922 rows × 8 columns</p>\n",
       "</div>"
      ],
      "text/plain": [
       "           BP   RF    RH  SO2     SR      T    WV     WD\n",
       "1420    709.4  0.0  56.0  4.0  0.003  22.43   1.7  256.0\n",
       "1421    709.5  0.0  61.0  3.8  0.003  21.78   1.5  242.0\n",
       "1422    709.9  0.0  60.0  3.9  0.003  21.59   1.9  235.0\n",
       "1426    712.3  0.0  35.0  3.8  0.308  25.93  12.2   34.0\n",
       "1427    713.3  0.0  29.0  3.6  0.626  26.21  13.7   25.0\n",
       "...       ...  ...   ...  ...    ...    ...   ...    ...\n",
       "341276  717.5  0.0  44.0  3.0  0.033   9.17   3.8   88.0\n",
       "341279  717.6  0.0  36.0  2.7  0.468  11.31   2.6   77.0\n",
       "341302  718.9  0.0  27.0  5.1  0.443   8.63   0.7   69.0\n",
       "341303  718.6  0.0  25.0  9.0  0.532   9.65   0.8   70.0\n",
       "341327  717.0  0.0  27.0  6.1  0.511  10.77   0.7   71.0\n",
       "\n",
       "[17922 rows x 8 columns]"
      ]
     },
     "execution_count": 4,
     "metadata": {},
     "output_type": "execute_result"
    }
   ],
   "source": [
    "x = df_pollutants_coords[['BP', 'RF', 'RH', 'SO2', 'SR', 'T', 'WV',\n",
    "       'WD']]\n",
    "x"
   ]
  },
  {
   "attachments": {},
   "cell_type": "markdown",
   "metadata": {},
   "source": [
    "En Python se puede usar `f_regression` para calcular el valor $F$ en regresiones, mientras que `f_classif` se usa para clasificaciones."
   ]
  },
  {
   "cell_type": "code",
   "execution_count": 5,
   "metadata": {},
   "outputs": [],
   "source": [
    "from sklearn.feature_selection import f_regression"
   ]
  },
  {
   "cell_type": "code",
   "execution_count": 6,
   "metadata": {},
   "outputs": [
    {
     "data": {
      "text/plain": [
       "(array([3.29852370e-01, 1.15471724e+01, 5.13188404e+02, 6.88147931e+01,\n",
       "        4.09850418e+02, 1.57429300e+01, 6.92115543e+01, 4.29422142e+02]),\n",
       " array([5.65753240e-001, 6.80000037e-004, 4.79151640e-112, 1.15745704e-016,\n",
       "        4.01860493e-090, 7.28410824e-005, 9.47261733e-017, 2.76390770e-094]))"
      ]
     },
     "execution_count": 6,
     "metadata": {},
     "output_type": "execute_result"
    }
   ],
   "source": [
    "f_value = f_regression(x, y)\n",
    "# Regresa arreglo de estadístico F y valor p\n",
    "f_value"
   ]
  },
  {
   "cell_type": "code",
   "execution_count": 7,
   "metadata": {},
   "outputs": [
    {
     "data": {
      "text/html": [
       "<div>\n",
       "<style scoped>\n",
       "    .dataframe tbody tr th:only-of-type {\n",
       "        vertical-align: middle;\n",
       "    }\n",
       "\n",
       "    .dataframe tbody tr th {\n",
       "        vertical-align: top;\n",
       "    }\n",
       "\n",
       "    .dataframe thead th {\n",
       "        text-align: right;\n",
       "    }\n",
       "</style>\n",
       "<table border=\"1\" class=\"dataframe\">\n",
       "  <thead>\n",
       "    <tr style=\"text-align: right;\">\n",
       "      <th></th>\n",
       "      <th>f_value</th>\n",
       "    </tr>\n",
       "  </thead>\n",
       "  <tbody>\n",
       "    <tr>\n",
       "      <th>RH</th>\n",
       "      <td>513.188404</td>\n",
       "    </tr>\n",
       "    <tr>\n",
       "      <th>WD</th>\n",
       "      <td>429.422142</td>\n",
       "    </tr>\n",
       "    <tr>\n",
       "      <th>SR</th>\n",
       "      <td>409.850418</td>\n",
       "    </tr>\n",
       "    <tr>\n",
       "      <th>WV</th>\n",
       "      <td>69.211554</td>\n",
       "    </tr>\n",
       "    <tr>\n",
       "      <th>SO2</th>\n",
       "      <td>68.814793</td>\n",
       "    </tr>\n",
       "    <tr>\n",
       "      <th>T</th>\n",
       "      <td>15.742930</td>\n",
       "    </tr>\n",
       "    <tr>\n",
       "      <th>RF</th>\n",
       "      <td>11.547172</td>\n",
       "    </tr>\n",
       "    <tr>\n",
       "      <th>BP</th>\n",
       "      <td>0.329852</td>\n",
       "    </tr>\n",
       "  </tbody>\n",
       "</table>\n",
       "</div>"
      ],
      "text/plain": [
       "        f_value\n",
       "RH   513.188404\n",
       "WD   429.422142\n",
       "SR   409.850418\n",
       "WV    69.211554\n",
       "SO2   68.814793\n",
       "T     15.742930\n",
       "RF    11.547172\n",
       "BP     0.329852"
      ]
     },
     "execution_count": 7,
     "metadata": {},
     "output_type": "execute_result"
    }
   ],
   "source": [
    "df_results = pd.DataFrame(f_value[0], index=x.columns)\n",
    "df_results.columns = ['f_value']\n",
    "df_results.sort_values('f_value', inplace = True, ascending = False)\n",
    "df_results"
   ]
  },
  {
   "attachments": {},
   "cell_type": "markdown",
   "metadata": {},
   "source": [
    "Los resultados. Como recordatorio: Barra más alta, más linealidad con $\\text{PM}_{10}$."
   ]
  },
  {
   "cell_type": "code",
   "execution_count": 8,
   "metadata": {},
   "outputs": [
    {
     "data": {
      "image/png": "[encoded data removed]",
      "text/plain": [
       "<Figure size 640x480 with 1 Axes>"
      ]
     },
     "metadata": {},
     "output_type": "display_data"
    }
   ],
   "source": [
    "plt.figure()\n",
    "plt.bar(df_results.index, df_results.f_value)\n",
    "plt.show()"
   ]
  },
  {
   "attachments": {},
   "cell_type": "markdown",
   "metadata": {},
   "source": [
    "La humedad relativa, dirección del viento y radiación solar encabezan las variables más linealmente relacionadas con $\\text{PM}_{10}$."
   ]
  },
  {
   "attachments": {},
   "cell_type": "markdown",
   "metadata": {},
   "source": [
    "### Valor $R$ de correlación\n",
    "\n",
    "La correlación ya se estudió en el capítulo pasado. También se puede utilizar como selección de características."
   ]
  },
  {
   "cell_type": "code",
   "execution_count": 9,
   "metadata": {},
   "outputs": [],
   "source": [
    "from sklearn.feature_selection import r_regression"
   ]
  },
  {
   "cell_type": "code",
   "execution_count": 10,
   "metadata": {},
   "outputs": [
    {
     "data": {
      "text/plain": [
       "array([ 0.00429029, -0.02537634, -0.1668546 ,  0.06184999,  0.14953169,\n",
       "        0.02962669, -0.06202735,  0.15297872])"
      ]
     },
     "execution_count": 10,
     "metadata": {},
     "output_type": "execute_result"
    }
   ],
   "source": [
    "r_value = r_regression(x, y)\n",
    "r_value"
   ]
  },
  {
   "cell_type": "code",
   "execution_count": 11,
   "metadata": {},
   "outputs": [],
   "source": [
    "df_results['r_value'] = r_value\n",
    "colors = []\n",
    "for v in df_results['r_value']:\n",
    "    if v > 0:\n",
    "        colors.append('b')\n",
    "    else:\n",
    "        colors.append('r')"
   ]
  },
  {
   "cell_type": "code",
   "execution_count": 12,
   "metadata": {},
   "outputs": [
    {
     "data": {
      "image/png": "[encoded data removed]",
      "text/plain": [
       "<Figure size 640x480 with 1 Axes>"
      ]
     },
     "metadata": {},
     "output_type": "display_data"
    }
   ],
   "source": [
    "df_results['r_value_abs'] = df_results['r_value'].abs()\n",
    "df_results.sort_values('r_value_abs', inplace = True, ascending = False)\n",
    "plt.figure()\n",
    "plt.bar(df_results.index, df_results.r_value_abs, color = colors)\n",
    "plt.show()"
   ]
  },
  {
   "attachments": {},
   "cell_type": "markdown",
   "metadata": {},
   "source": [
    "### Umbral de varianza\n",
    "\n",
    "Otro modelo de filtro para selección de características es el umbral de varianza, que consiste en descartar características con baja varianza, en el supuesto de que no aportan tanta información al modelo. Requiere que las características estén normalizadas."
   ]
  },
  {
   "cell_type": "code",
   "execution_count": 13,
   "metadata": {},
   "outputs": [
    {
     "data": {
      "text/html": [
       "<div>\n",
       "<style scoped>\n",
       "    .dataframe tbody tr th:only-of-type {\n",
       "        vertical-align: middle;\n",
       "    }\n",
       "\n",
       "    .dataframe tbody tr th {\n",
       "        vertical-align: top;\n",
       "    }\n",
       "\n",
       "    .dataframe thead th {\n",
       "        text-align: right;\n",
       "    }\n",
       "</style>\n",
       "<table border=\"1\" class=\"dataframe\">\n",
       "  <thead>\n",
       "    <tr style=\"text-align: right;\">\n",
       "      <th></th>\n",
       "      <th>BP</th>\n",
       "      <th>RF</th>\n",
       "      <th>RH</th>\n",
       "      <th>SO2</th>\n",
       "      <th>SR</th>\n",
       "      <th>T</th>\n",
       "      <th>WV</th>\n",
       "      <th>WD</th>\n",
       "    </tr>\n",
       "  </thead>\n",
       "  <tbody>\n",
       "    <tr>\n",
       "      <th>0</th>\n",
       "      <td>0.188017</td>\n",
       "      <td>0.0</td>\n",
       "      <td>0.555556</td>\n",
       "      <td>0.027985</td>\n",
       "      <td>0.002825</td>\n",
       "      <td>0.556541</td>\n",
       "      <td>0.052133</td>\n",
       "      <td>0.710306</td>\n",
       "    </tr>\n",
       "    <tr>\n",
       "      <th>1</th>\n",
       "      <td>0.190083</td>\n",
       "      <td>0.0</td>\n",
       "      <td>0.606061</td>\n",
       "      <td>0.026119</td>\n",
       "      <td>0.002825</td>\n",
       "      <td>0.540527</td>\n",
       "      <td>0.042654</td>\n",
       "      <td>0.671309</td>\n",
       "    </tr>\n",
       "    <tr>\n",
       "      <th>2</th>\n",
       "      <td>0.198347</td>\n",
       "      <td>0.0</td>\n",
       "      <td>0.595960</td>\n",
       "      <td>0.027052</td>\n",
       "      <td>0.002825</td>\n",
       "      <td>0.535846</td>\n",
       "      <td>0.061611</td>\n",
       "      <td>0.651811</td>\n",
       "    </tr>\n",
       "    <tr>\n",
       "      <th>3</th>\n",
       "      <td>0.247934</td>\n",
       "      <td>0.0</td>\n",
       "      <td>0.343434</td>\n",
       "      <td>0.026119</td>\n",
       "      <td>0.290019</td>\n",
       "      <td>0.642769</td>\n",
       "      <td>0.549763</td>\n",
       "      <td>0.091922</td>\n",
       "    </tr>\n",
       "    <tr>\n",
       "      <th>4</th>\n",
       "      <td>0.268595</td>\n",
       "      <td>0.0</td>\n",
       "      <td>0.282828</td>\n",
       "      <td>0.024254</td>\n",
       "      <td>0.589454</td>\n",
       "      <td>0.649667</td>\n",
       "      <td>0.620853</td>\n",
       "      <td>0.066852</td>\n",
       "    </tr>\n",
       "    <tr>\n",
       "      <th>...</th>\n",
       "      <td>...</td>\n",
       "      <td>...</td>\n",
       "      <td>...</td>\n",
       "      <td>...</td>\n",
       "      <td>...</td>\n",
       "      <td>...</td>\n",
       "      <td>...</td>\n",
       "      <td>...</td>\n",
       "    </tr>\n",
       "    <tr>\n",
       "      <th>17917</th>\n",
       "      <td>0.355372</td>\n",
       "      <td>0.0</td>\n",
       "      <td>0.434343</td>\n",
       "      <td>0.018657</td>\n",
       "      <td>0.031073</td>\n",
       "      <td>0.229860</td>\n",
       "      <td>0.151659</td>\n",
       "      <td>0.242340</td>\n",
       "    </tr>\n",
       "    <tr>\n",
       "      <th>17918</th>\n",
       "      <td>0.357438</td>\n",
       "      <td>0.0</td>\n",
       "      <td>0.353535</td>\n",
       "      <td>0.015858</td>\n",
       "      <td>0.440678</td>\n",
       "      <td>0.282582</td>\n",
       "      <td>0.094787</td>\n",
       "      <td>0.211699</td>\n",
       "    </tr>\n",
       "    <tr>\n",
       "      <th>17919</th>\n",
       "      <td>0.384298</td>\n",
       "      <td>0.0</td>\n",
       "      <td>0.262626</td>\n",
       "      <td>0.038246</td>\n",
       "      <td>0.417137</td>\n",
       "      <td>0.216556</td>\n",
       "      <td>0.004739</td>\n",
       "      <td>0.189415</td>\n",
       "    </tr>\n",
       "    <tr>\n",
       "      <th>17920</th>\n",
       "      <td>0.378099</td>\n",
       "      <td>0.0</td>\n",
       "      <td>0.242424</td>\n",
       "      <td>0.074627</td>\n",
       "      <td>0.500942</td>\n",
       "      <td>0.241685</td>\n",
       "      <td>0.009479</td>\n",
       "      <td>0.192201</td>\n",
       "    </tr>\n",
       "    <tr>\n",
       "      <th>17921</th>\n",
       "      <td>0.345041</td>\n",
       "      <td>0.0</td>\n",
       "      <td>0.262626</td>\n",
       "      <td>0.047575</td>\n",
       "      <td>0.481168</td>\n",
       "      <td>0.269278</td>\n",
       "      <td>0.004739</td>\n",
       "      <td>0.194986</td>\n",
       "    </tr>\n",
       "  </tbody>\n",
       "</table>\n",
       "<p>17922 rows × 8 columns</p>\n",
       "</div>"
      ],
      "text/plain": [
       "             BP   RF        RH       SO2        SR         T        WV  \\\n",
       "0      0.188017  0.0  0.555556  0.027985  0.002825  0.556541  0.052133   \n",
       "1      0.190083  0.0  0.606061  0.026119  0.002825  0.540527  0.042654   \n",
       "2      0.198347  0.0  0.595960  0.027052  0.002825  0.535846  0.061611   \n",
       "3      0.247934  0.0  0.343434  0.026119  0.290019  0.642769  0.549763   \n",
       "4      0.268595  0.0  0.282828  0.024254  0.589454  0.649667  0.620853   \n",
       "...         ...  ...       ...       ...       ...       ...       ...   \n",
       "17917  0.355372  0.0  0.434343  0.018657  0.031073  0.229860  0.151659   \n",
       "17918  0.357438  0.0  0.353535  0.015858  0.440678  0.282582  0.094787   \n",
       "17919  0.384298  0.0  0.262626  0.038246  0.417137  0.216556  0.004739   \n",
       "17920  0.378099  0.0  0.242424  0.074627  0.500942  0.241685  0.009479   \n",
       "17921  0.345041  0.0  0.262626  0.047575  0.481168  0.269278  0.004739   \n",
       "\n",
       "             WD  \n",
       "0      0.710306  \n",
       "1      0.671309  \n",
       "2      0.651811  \n",
       "3      0.091922  \n",
       "4      0.066852  \n",
       "...         ...  \n",
       "17917  0.242340  \n",
       "17918  0.211699  \n",
       "17919  0.189415  \n",
       "17920  0.192201  \n",
       "17921  0.194986  \n",
       "\n",
       "[17922 rows x 8 columns]"
      ]
     },
     "execution_count": 13,
     "metadata": {},
     "output_type": "execute_result"
    }
   ],
   "source": [
    "# Normalización de variables\n",
    "from sklearn.preprocessing import MinMaxScaler\n",
    "scaler = MinMaxScaler()\n",
    "scaled = scaler.fit_transform(x)\n",
    "x_scaled = pd.DataFrame(scaled, columns = x.columns)\n",
    "x_scaled"
   ]
  },
  {
   "cell_type": "code",
   "execution_count": 14,
   "metadata": {},
   "outputs": [],
   "source": [
    "from sklearn.feature_selection import VarianceThreshold"
   ]
  },
  {
   "cell_type": "code",
   "execution_count": 15,
   "metadata": {},
   "outputs": [
    {
     "data": {
      "text/plain": [
       "array([0.04436033, 0.00012109, 0.04147784, 0.00314576, 0.05527576,\n",
       "       0.03085002, 0.02143292, 0.05844243])"
      ]
     },
     "execution_count": 15,
     "metadata": {},
     "output_type": "execute_result"
    }
   ],
   "source": [
    "selector = VarianceThreshold()\n",
    "selector.fit_transform(x_scaled)\n",
    "selector.variances_"
   ]
  },
  {
   "cell_type": "code",
   "execution_count": 16,
   "metadata": {},
   "outputs": [],
   "source": [
    "# Se agregan las varianzas a los resultados\n",
    "df_results['variance'] = selector.variances_\n",
    "df_results.sort_values('variance', ascending = False, inplace = True)"
   ]
  },
  {
   "cell_type": "code",
   "execution_count": 17,
   "metadata": {},
   "outputs": [
    {
     "data": {
      "image/png": "[encoded data removed]",
      "text/plain": [
       "<Figure size 640x480 with 1 Axes>"
      ]
     },
     "metadata": {},
     "output_type": "display_data"
    }
   ],
   "source": [
    "plt.figure()\n",
    "plt.bar(df_results.index, df_results.variance)\n",
    "plt.show()"
   ]
  },
  {
   "attachments": {},
   "cell_type": "markdown",
   "metadata": {},
   "source": [
    "Generalmente, se suelen eliminar características con varianza menor a $0.2$. Aquí todas serían eliminadas 😅"
   ]
  },
  {
   "attachments": {},
   "cell_type": "markdown",
   "metadata": {},
   "source": [
    "### Información mutua\n",
    "\n",
    "Este modelo mide la dependencia entre variables. Un valor de $0$ indicaría que las variables son independientes. Este modelo captura relaciones no lineales entre las variables 👀\n",
    "\n",
    "Aquí también existe la variante `classif` para modelos que impliquen clasificación."
   ]
  },
  {
   "cell_type": "code",
   "execution_count": 18,
   "metadata": {},
   "outputs": [],
   "source": [
    "from sklearn.feature_selection import mutual_info_regression"
   ]
  },
  {
   "cell_type": "code",
   "execution_count": 19,
   "metadata": {},
   "outputs": [
    {
     "data": {
      "text/plain": [
       "array([0.04086179, 0.02524216, 0.05176487, 0.04573864, 0.11309616,\n",
       "       0.04497225, 0.02172313, 0.03296479])"
      ]
     },
     "execution_count": 19,
     "metadata": {},
     "output_type": "execute_result"
    }
   ],
   "source": [
    "mi = mutual_info_regression(x, y, random_state=0)\n",
    "mi"
   ]
  },
  {
   "cell_type": "code",
   "execution_count": 20,
   "metadata": {},
   "outputs": [
    {
     "data": {
      "image/png": "[encoded data removed]",
      "text/plain": [
       "<Figure size 640x480 with 1 Axes>"
      ]
     },
     "metadata": {},
     "output_type": "display_data"
    }
   ],
   "source": [
    "# Agregarlo a los resultados\n",
    "df_results['mi'] = mi\n",
    "df_results.sort_values('mi', ascending = False, inplace = True)\n",
    "\n",
    "plt.figure()\n",
    "plt.bar(df_results.index, df_results.mi)\n",
    "plt.show()"
   ]
  },
  {
   "attachments": {},
   "cell_type": "markdown",
   "metadata": {},
   "source": [
    "Una vez que se tienen algunos resultados, es recomendable utilizar una métrica para tomar una decisión. Hay muchas maneras de hacer esto, por ejemplo mediante la media de los valores normalizados. De esta manera, tenemos sólo una variable de decisión."
   ]
  },
  {
   "cell_type": "code",
   "execution_count": 21,
   "metadata": {},
   "outputs": [
    {
     "data": {
      "image/png": "[encoded data removed]",
      "text/plain": [
       "<Figure size 640x480 with 1 Axes>"
      ]
     },
     "metadata": {},
     "output_type": "display_data"
    }
   ],
   "source": [
    "scaled = scaler.fit_transform(df_results)\n",
    "df_results_scaled = pd.DataFrame(scaled, columns = df_results.columns)\n",
    "df_results_scaled.set_index(df_results.index, inplace = True)\n",
    "df_results_scaled['norm_mean'] = df_results_scaled.mean(axis = 1)\n",
    "df_results_scaled.sort_values('norm_mean', ascending = False, inplace = True)\n",
    "\n",
    "plt.figure()\n",
    "plt.bar(df_results_scaled.index, df_results_scaled.mean(axis = 1))\n",
    "plt.show()"
   ]
  },
  {
   "attachments": {},
   "cell_type": "markdown",
   "metadata": {},
   "source": [
    "## Métodos de envoltura (?) o *wrapper*"
   ]
  },
  {
   "attachments": {},
   "cell_type": "markdown",
   "metadata": {},
   "source": [
    "Métodos que exploran subconjuntos de combinaciones de características que mejoren algún desempeño de modelos de AA, con la ventaja de que, al usar un modelo, se estudian las relaciones de las carracterísticas *en* el modelo, a diferencia de los métodos de filtro, donde la relación de características dependía de estadísticos. Estos métodos tienen la desventaja de que, a mayor complejidad del modelo y número de características, mayor consumo de recursos y tiempos de ejecución ⌛"
   ]
  },
  {
   "attachments": {},
   "cell_type": "markdown",
   "metadata": {},
   "source": [
    "### Selección de características exhaustiva\n",
    "\n",
    "La Selección de características exhaustiva o EFS (*Exhaustive Feature Selection*) por sus siglas en inglés evalúa todas las combinaciones de características y devuelve los valores que optimizan el modelo. Como ejemplo, se usa una regresión lineal."
   ]
  },
  {
   "cell_type": "code",
   "execution_count": 23,
   "metadata": {},
   "outputs": [],
   "source": [
    "from sklearn.linear_model import LinearRegression"
   ]
  },
  {
   "cell_type": "code",
   "execution_count": 24,
   "metadata": {},
   "outputs": [],
   "source": [
    "from mlxtend.feature_selection import ExhaustiveFeatureSelector as EFS"
   ]
  },
  {
   "cell_type": "code",
   "execution_count": 25,
   "metadata": {},
   "outputs": [],
   "source": [
    "lr = LinearRegression()\n",
    "\n",
    "efs = EFS(estimator = lr,        # Use logistic regression as the classifier/estimator\n",
    "          min_features = 1,      # The minimum number of features to consider is 1\n",
    "          max_features = 8,      # The maximum number of features to consider is 4\n",
    "          scoring='neg_mean_absolute_error',  # The metric to use to evaluate the classifier is accuracy \n",
    "          cv=5)"
   ]
  },
  {
   "cell_type": "code",
   "execution_count": 26,
   "metadata": {},
   "outputs": [
    {
     "name": "stderr",
     "output_type": "stream",
     "text": [
      "Features: 255/255"
     ]
    }
   ],
   "source": [
    "efs = efs.fit(x, y)"
   ]
  },
  {
   "cell_type": "code",
   "execution_count": 27,
   "metadata": {},
   "outputs": [
    {
     "name": "stdout",
     "output_type": "stream",
     "text": [
      "Best accuracy score: -26.37\n",
      "Best subset (indices): (2, 4, 7)\n",
      "Best subset (corresponding names): ('RH', 'SR', 'WD')\n"
     ]
    }
   ],
   "source": [
    "print('Best accuracy score: %.2f' % efs.best_score_)\n",
    "print('Best subset (indices):', efs.best_idx_)\n",
    "print('Best subset (corresponding names):', efs.best_feature_names_)"
   ]
  },
  {
   "cell_type": "code",
   "execution_count": 28,
   "metadata": {},
   "outputs": [
    {
     "data": {
      "text/html": [
       "<div>\n",
       "<style scoped>\n",
       "    .dataframe tbody tr th:only-of-type {\n",
       "        vertical-align: middle;\n",
       "    }\n",
       "\n",
       "    .dataframe tbody tr th {\n",
       "        vertical-align: top;\n",
       "    }\n",
       "\n",
       "    .dataframe thead th {\n",
       "        text-align: right;\n",
       "    }\n",
       "</style>\n",
       "<table border=\"1\" class=\"dataframe\">\n",
       "  <thead>\n",
       "    <tr style=\"text-align: right;\">\n",
       "      <th></th>\n",
       "      <th>feature_idx</th>\n",
       "      <th>cv_scores</th>\n",
       "      <th>avg_score</th>\n",
       "      <th>feature_names</th>\n",
       "      <th>ci_bound</th>\n",
       "      <th>std_dev</th>\n",
       "      <th>std_err</th>\n",
       "    </tr>\n",
       "  </thead>\n",
       "  <tbody>\n",
       "    <tr>\n",
       "      <th>78</th>\n",
       "      <td>(2, 4, 7)</td>\n",
       "      <td>[-25.728949578055502, -27.385298136709626, -32...</td>\n",
       "      <td>-26.369325</td>\n",
       "      <td>(RH, SR, WD)</td>\n",
       "      <td>5.737435</td>\n",
       "      <td>4.463919</td>\n",
       "      <td>2.23196</td>\n",
       "    </tr>\n",
       "    <tr>\n",
       "      <th>133</th>\n",
       "      <td>(1, 2, 4, 7)</td>\n",
       "      <td>[-25.741550274805515, -27.38717729891836, -32....</td>\n",
       "      <td>-26.381235</td>\n",
       "      <td>(RF, RH, SR, WD)</td>\n",
       "      <td>5.719986</td>\n",
       "      <td>4.450343</td>\n",
       "      <td>2.225172</td>\n",
       "    </tr>\n",
       "    <tr>\n",
       "      <th>149</th>\n",
       "      <td>(2, 3, 4, 7)</td>\n",
       "      <td>[-25.6888798467293, -27.58811649664674, -32.59...</td>\n",
       "      <td>-26.393016</td>\n",
       "      <td>(RH, SO2, SR, WD)</td>\n",
       "      <td>5.797148</td>\n",
       "      <td>4.510378</td>\n",
       "      <td>2.255189</td>\n",
       "    </tr>\n",
       "    <tr>\n",
       "      <th>199</th>\n",
       "      <td>(1, 2, 3, 4, 7)</td>\n",
       "      <td>[-25.701730145300438, -27.588085316445486, -32...</td>\n",
       "      <td>-26.404812</td>\n",
       "      <td>(RF, RH, SO2, SR, WD)</td>\n",
       "      <td>5.778485</td>\n",
       "      <td>4.495858</td>\n",
       "      <td>2.247929</td>\n",
       "    </tr>\n",
       "    <tr>\n",
       "      <th>32</th>\n",
       "      <td>(4, 7)</td>\n",
       "      <td>[-25.47455561557264, -27.41607708316543, -33.5...</td>\n",
       "      <td>-26.430068</td>\n",
       "      <td>(SR, WD)</td>\n",
       "      <td>6.419859</td>\n",
       "      <td>4.994869</td>\n",
       "      <td>2.497434</td>\n",
       "    </tr>\n",
       "    <tr>\n",
       "      <th>84</th>\n",
       "      <td>(3, 4, 7)</td>\n",
       "      <td>[-25.42113251905091, -27.630513812115048, -33....</td>\n",
       "      <td>-26.451793</td>\n",
       "      <td>(SO2, SR, WD)</td>\n",
       "      <td>6.484229</td>\n",
       "      <td>5.04495</td>\n",
       "      <td>2.522475</td>\n",
       "    </tr>\n",
       "    <tr>\n",
       "      <th>68</th>\n",
       "      <td>(1, 4, 7)</td>\n",
       "      <td>[-25.493017862790005, -27.41582460100987, -33....</td>\n",
       "      <td>-26.45432</td>\n",
       "      <td>(RF, SR, WD)</td>\n",
       "      <td>6.370997</td>\n",
       "      <td>4.956852</td>\n",
       "      <td>2.478426</td>\n",
       "    </tr>\n",
       "    <tr>\n",
       "      <th>154</th>\n",
       "      <td>(2, 4, 5, 7)</td>\n",
       "      <td>[-25.68059038414948, -27.092131694263458, -33....</td>\n",
       "      <td>-26.47159</td>\n",
       "      <td>(RH, SR, T, WD)</td>\n",
       "      <td>6.057916</td>\n",
       "      <td>4.713265</td>\n",
       "      <td>2.356632</td>\n",
       "    </tr>\n",
       "    <tr>\n",
       "      <th>139</th>\n",
       "      <td>(1, 3, 4, 7)</td>\n",
       "      <td>[-25.440293574749283, -27.628347725981335, -33...</td>\n",
       "      <td>-26.476293</td>\n",
       "      <td>(RF, SO2, SR, WD)</td>\n",
       "      <td>6.433246</td>\n",
       "      <td>5.005284</td>\n",
       "      <td>2.502642</td>\n",
       "    </tr>\n",
       "    <tr>\n",
       "      <th>204</th>\n",
       "      <td>(1, 2, 4, 5, 7)</td>\n",
       "      <td>[-25.692639828231155, -27.10027643922127, -33....</td>\n",
       "      <td>-26.480765</td>\n",
       "      <td>(RF, RH, SR, T, WD)</td>\n",
       "      <td>6.045907</td>\n",
       "      <td>4.703921</td>\n",
       "      <td>2.35196</td>\n",
       "    </tr>\n",
       "  </tbody>\n",
       "</table>\n",
       "</div>"
      ],
      "text/plain": [
       "         feature_idx                                          cv_scores  \\\n",
       "78         (2, 4, 7)  [-25.728949578055502, -27.385298136709626, -32...   \n",
       "133     (1, 2, 4, 7)  [-25.741550274805515, -27.38717729891836, -32....   \n",
       "149     (2, 3, 4, 7)  [-25.6888798467293, -27.58811649664674, -32.59...   \n",
       "199  (1, 2, 3, 4, 7)  [-25.701730145300438, -27.588085316445486, -32...   \n",
       "32            (4, 7)  [-25.47455561557264, -27.41607708316543, -33.5...   \n",
       "84         (3, 4, 7)  [-25.42113251905091, -27.630513812115048, -33....   \n",
       "68         (1, 4, 7)  [-25.493017862790005, -27.41582460100987, -33....   \n",
       "154     (2, 4, 5, 7)  [-25.68059038414948, -27.092131694263458, -33....   \n",
       "139     (1, 3, 4, 7)  [-25.440293574749283, -27.628347725981335, -33...   \n",
       "204  (1, 2, 4, 5, 7)  [-25.692639828231155, -27.10027643922127, -33....   \n",
       "\n",
       "     avg_score          feature_names  ci_bound   std_dev   std_err  \n",
       "78  -26.369325           (RH, SR, WD)  5.737435  4.463919   2.23196  \n",
       "133 -26.381235       (RF, RH, SR, WD)  5.719986  4.450343  2.225172  \n",
       "149 -26.393016      (RH, SO2, SR, WD)  5.797148  4.510378  2.255189  \n",
       "199 -26.404812  (RF, RH, SO2, SR, WD)  5.778485  4.495858  2.247929  \n",
       "32  -26.430068               (SR, WD)  6.419859  4.994869  2.497434  \n",
       "84  -26.451793          (SO2, SR, WD)  6.484229   5.04495  2.522475  \n",
       "68   -26.45432           (RF, SR, WD)  6.370997  4.956852  2.478426  \n",
       "154  -26.47159        (RH, SR, T, WD)  6.057916  4.713265  2.356632  \n",
       "139 -26.476293      (RF, SO2, SR, WD)  6.433246  5.005284  2.502642  \n",
       "204 -26.480765    (RF, RH, SR, T, WD)  6.045907  4.703921   2.35196  "
      ]
     },
     "execution_count": 28,
     "metadata": {},
     "output_type": "execute_result"
    }
   ],
   "source": [
    "metric_dict = efs.get_metric_dict()\n",
    "df_efs = pd.DataFrame(metric_dict).T\n",
    "df_efs.sort_values('avg_score', ascending=False,  inplace = True)\n",
    "df_efs_best_10 = df_efs.iloc[:10]\n",
    "df_efs_best_10"
   ]
  },
  {
   "cell_type": "code",
   "execution_count": 29,
   "metadata": {},
   "outputs": [
    {
     "data": {
      "image/png": "[encoded data removed]",
      "text/plain": [
       "<Figure size 2000x400 with 1 Axes>"
      ]
     },
     "metadata": {},
     "output_type": "display_data"
    }
   ],
   "source": [
    "# https://rasbt.github.io/mlxtend/user_guide/feature_selection/ExhaustiveFeatureSelector/#example-2-visualizing-the-feature-selection-results\n",
    "\n",
    "fig = plt.figure(figsize=(20, 4))\n",
    "\n",
    "plt.plot(\n",
    "    df_efs_best_10.feature_names.astype(str), \n",
    "    df_efs_best_10.avg_score, \n",
    "    color='blue', marker='o'\n",
    ")\n",
    "plt.ylabel('MAE')\n",
    "plt.xlabel('Características')\n",
    "\n",
    "plt.xticks(rotation = 90)\n",
    "\n",
    "plt.show()"
   ]
  },
  {
   "attachments": {},
   "cell_type": "markdown",
   "metadata": {},
   "source": [
    "### Sequential Forward Selection (SFS)\n",
    "\n",
    "Este modelo agrega en cada iteración una variable e identifica las variables que mejoran la métrica del modelo."
   ]
  },
  {
   "cell_type": "code",
   "execution_count": 30,
   "metadata": {},
   "outputs": [],
   "source": [
    "from mlxtend.feature_selection import SequentialFeatureSelector as SFS"
   ]
  },
  {
   "cell_type": "code",
   "execution_count": 31,
   "metadata": {},
   "outputs": [],
   "source": [
    "sfs = SFS(estimator = lr,        # Use logistic regression as the classifier/estimator\n",
    "          k_features=(1, 8),  # Consider any feature combination between 1 and 8\n",
    "          forward=True,       # Set forward to True when we want to perform SFS\n",
    "          scoring='neg_mean_absolute_error',  # The metric to use to evaluate the classifier is accuracy \n",
    "          cv=5)"
   ]
  },
  {
   "cell_type": "code",
   "execution_count": 32,
   "metadata": {},
   "outputs": [],
   "source": [
    "sfs = sfs.fit(x, y)"
   ]
  },
  {
   "cell_type": "code",
   "execution_count": 33,
   "metadata": {},
   "outputs": [
    {
     "name": "stdout",
     "output_type": "stream",
     "text": [
      "Best accuracy score: -26.37\n",
      "Best subset (indices): (2, 4, 7)\n",
      "Best subset (corresponding names): ('RH', 'SR', 'WD')\n"
     ]
    }
   ],
   "source": [
    "print('Best accuracy score: %.2f' % sfs.k_score_)   # k_score_ shows the best score \n",
    "print('Best subset (indices):', sfs.k_feature_idx_) # k_feature_idx_ shows the index of features \n",
    "                                                    # that yield the best score\n",
    "print('Best subset (corresponding names):', sfs.k_feature_names_) # k_feature_names_ shows the feature names \n",
    "                                                                  # that yield the best score"
   ]
  },
  {
   "cell_type": "code",
   "execution_count": 34,
   "metadata": {},
   "outputs": [
    {
     "data": {
      "text/html": [
       "<div>\n",
       "<style scoped>\n",
       "    .dataframe tbody tr th:only-of-type {\n",
       "        vertical-align: middle;\n",
       "    }\n",
       "\n",
       "    .dataframe tbody tr th {\n",
       "        vertical-align: top;\n",
       "    }\n",
       "\n",
       "    .dataframe thead th {\n",
       "        text-align: right;\n",
       "    }\n",
       "</style>\n",
       "<table border=\"1\" class=\"dataframe\">\n",
       "  <thead>\n",
       "    <tr style=\"text-align: right;\">\n",
       "      <th></th>\n",
       "      <th>feature_idx</th>\n",
       "      <th>cv_scores</th>\n",
       "      <th>avg_score</th>\n",
       "      <th>feature_names</th>\n",
       "    </tr>\n",
       "  </thead>\n",
       "  <tbody>\n",
       "    <tr>\n",
       "      <th>3</th>\n",
       "      <td>(2, 4, 7)</td>\n",
       "      <td>[-25.728949578055502, -27.385298136709626, -32...</td>\n",
       "      <td>-26.369325</td>\n",
       "      <td>(RH, SR, WD)</td>\n",
       "    </tr>\n",
       "    <tr>\n",
       "      <th>4</th>\n",
       "      <td>(1, 2, 4, 7)</td>\n",
       "      <td>[-25.741550274805515, -27.38717729891836, -32....</td>\n",
       "      <td>-26.381235</td>\n",
       "      <td>(RF, RH, SR, WD)</td>\n",
       "    </tr>\n",
       "    <tr>\n",
       "      <th>5</th>\n",
       "      <td>(1, 2, 3, 4, 7)</td>\n",
       "      <td>[-25.701730145300438, -27.588085316445486, -32...</td>\n",
       "      <td>-26.404812</td>\n",
       "      <td>(RF, RH, SO2, SR, WD)</td>\n",
       "    </tr>\n",
       "    <tr>\n",
       "      <th>2</th>\n",
       "      <td>(4, 7)</td>\n",
       "      <td>[-25.47455561557264, -27.41607708316543, -33.5...</td>\n",
       "      <td>-26.430068</td>\n",
       "      <td>(SR, WD)</td>\n",
       "    </tr>\n",
       "    <tr>\n",
       "      <th>6</th>\n",
       "      <td>(1, 2, 3, 4, 5, 7)</td>\n",
       "      <td>[-25.65324782171129, -27.296998981479092, -33....</td>\n",
       "      <td>-26.510578</td>\n",
       "      <td>(RF, RH, SO2, SR, T, WD)</td>\n",
       "    </tr>\n",
       "    <tr>\n",
       "      <th>7</th>\n",
       "      <td>(0, 1, 2, 3, 4, 5, 7)</td>\n",
       "      <td>[-27.521190324688256, -27.15814651575552, -32....</td>\n",
       "      <td>-26.672203</td>\n",
       "      <td>(BP, RF, RH, SO2, SR, T, WD)</td>\n",
       "    </tr>\n",
       "    <tr>\n",
       "      <th>1</th>\n",
       "      <td>(4,)</td>\n",
       "      <td>[-26.983285424205068, -27.337453091432604, -33...</td>\n",
       "      <td>-26.879408</td>\n",
       "      <td>(SR,)</td>\n",
       "    </tr>\n",
       "    <tr>\n",
       "      <th>8</th>\n",
       "      <td>(0, 1, 2, 3, 4, 5, 6, 7)</td>\n",
       "      <td>[-26.79233001520056, -27.353004912191512, -32....</td>\n",
       "      <td>-26.93665</td>\n",
       "      <td>(BP, RF, RH, SO2, SR, T, WV, WD)</td>\n",
       "    </tr>\n",
       "  </tbody>\n",
       "</table>\n",
       "</div>"
      ],
      "text/plain": [
       "                feature_idx  \\\n",
       "3                 (2, 4, 7)   \n",
       "4              (1, 2, 4, 7)   \n",
       "5           (1, 2, 3, 4, 7)   \n",
       "2                    (4, 7)   \n",
       "6        (1, 2, 3, 4, 5, 7)   \n",
       "7     (0, 1, 2, 3, 4, 5, 7)   \n",
       "1                      (4,)   \n",
       "8  (0, 1, 2, 3, 4, 5, 6, 7)   \n",
       "\n",
       "                                           cv_scores  avg_score  \\\n",
       "3  [-25.728949578055502, -27.385298136709626, -32... -26.369325   \n",
       "4  [-25.741550274805515, -27.38717729891836, -32.... -26.381235   \n",
       "5  [-25.701730145300438, -27.588085316445486, -32... -26.404812   \n",
       "2  [-25.47455561557264, -27.41607708316543, -33.5... -26.430068   \n",
       "6  [-25.65324782171129, -27.296998981479092, -33.... -26.510578   \n",
       "7  [-27.521190324688256, -27.15814651575552, -32.... -26.672203   \n",
       "1  [-26.983285424205068, -27.337453091432604, -33... -26.879408   \n",
       "8  [-26.79233001520056, -27.353004912191512, -32....  -26.93665   \n",
       "\n",
       "                      feature_names  \n",
       "3                      (RH, SR, WD)  \n",
       "4                  (RF, RH, SR, WD)  \n",
       "5             (RF, RH, SO2, SR, WD)  \n",
       "2                          (SR, WD)  \n",
       "6          (RF, RH, SO2, SR, T, WD)  \n",
       "7      (BP, RF, RH, SO2, SR, T, WD)  \n",
       "1                             (SR,)  \n",
       "8  (BP, RF, RH, SO2, SR, T, WV, WD)  "
      ]
     },
     "execution_count": 34,
     "metadata": {},
     "output_type": "execute_result"
    }
   ],
   "source": [
    "subsets_ = sfs.subsets_\n",
    "df_sfs = pd.DataFrame(subsets_).T\n",
    "df_sfs.sort_values('avg_score', ascending=False,  inplace = True)\n",
    "df_sfs"
   ]
  },
  {
   "cell_type": "code",
   "execution_count": 35,
   "metadata": {},
   "outputs": [
    {
     "data": {
      "image/png": "[encoded data removed]",
      "text/plain": [
       "<Figure size 2000x400 with 1 Axes>"
      ]
     },
     "metadata": {},
     "output_type": "display_data"
    }
   ],
   "source": [
    "fig = plt.figure(figsize=(20, 4))\n",
    "\n",
    "plt.plot(\n",
    "    df_sfs.feature_names.astype(str), \n",
    "    df_sfs.avg_score, \n",
    "    color='blue', marker='o'\n",
    ")\n",
    "plt.ylabel('MAE')\n",
    "plt.xlabel('Características')\n",
    "\n",
    "plt.xticks(rotation = 90)\n",
    "\n",
    "plt.show()"
   ]
  },
  {
   "attachments": {},
   "cell_type": "markdown",
   "metadata": {},
   "source": [
    "### Sequential Backward Selection (SBS)\n",
    "\n",
    "Lo mismo, pero al revés 😛"
   ]
  },
  {
   "cell_type": "code",
   "execution_count": 36,
   "metadata": {},
   "outputs": [
    {
     "data": {
      "image/png": "[encoded data removed]",
      "text/plain": [
       "<Figure size 2000x400 with 1 Axes>"
      ]
     },
     "metadata": {},
     "output_type": "display_data"
    }
   ],
   "source": [
    "sbs = SFS(estimator = lr,\n",
    "          k_features=(1, 8),\n",
    "          forward=True,\n",
    "          scoring='neg_mean_absolute_error',\n",
    "          cv=5)\n",
    "\n",
    "sbs = sbs.fit(x, y)\n",
    "subsets_ = sbs.subsets_\n",
    "df_sbs = pd.DataFrame(subsets_).T\n",
    "df_sbs.sort_values('avg_score', ascending=False,  inplace = True)\n",
    "\n",
    "fig = plt.figure(figsize=(20, 4))\n",
    "plt.plot(\n",
    "    df_sbs.feature_names.astype(str), \n",
    "    df_sbs.avg_score, \n",
    "    color='blue', marker='o'\n",
    ")\n",
    "plt.ylabel('MAE')\n",
    "plt.xlabel('Características')\n",
    "\n",
    "plt.xticks(rotation = 90)\n",
    "\n",
    "plt.show()"
   ]
  },
  {
   "attachments": {},
   "cell_type": "markdown",
   "metadata": {},
   "source": [
    "## PCA\n",
    "\n",
    "El [análisis de componentes principales](https://www.cienciadedatos.net/documentos/py19-pca-python.html) es una especie de técnica de reducción de características que podría utilizarse como selección de características. Consiste en reducir la dimensionalidad de características mediante hiperparámetros que incluyan las características que más varianza tengan para explicar un modelo."
   ]
  },
  {
   "cell_type": "code",
   "execution_count": 97,
   "metadata": {},
   "outputs": [],
   "source": [
    "from sklearn.decomposition import PCA\n",
    "import numpy as np"
   ]
  },
  {
   "cell_type": "code",
   "execution_count": 90,
   "metadata": {},
   "outputs": [],
   "source": [
    "pca = PCA(n_components=3)\n",
    "pca_model = pca.fit(x_scaled)"
   ]
  },
  {
   "cell_type": "code",
   "execution_count": 113,
   "metadata": {},
   "outputs": [
    {
     "data": {
      "image/png": "[encoded data removed]",
      "text/plain": [
       "<Figure size 640x480 with 1 Axes>"
      ]
     },
     "metadata": {},
     "output_type": "display_data"
    }
   ],
   "source": [
    "plt.figure()\n",
    "plt.bar(np.arange(pca_model.n_components_) + 1, pca_model.explained_variance_ratio_)\n",
    "prop_varianza_acum = pca_model.explained_variance_ratio_.cumsum()\n",
    "plt.plot(range(1, 4),prop_varianza_acum, marker = 'o', c='orange', label='Var. acumulada')\n",
    "plt.xticks(np.arange(pca_model.n_components_) + 1)\n",
    "plt.ylim(0, 1.1)\n",
    "plt.xlabel('Componente principal', fontsize=12)\n",
    "plt.ylabel('Varianza explicada', fontsize=16)\n",
    "plt.legend()\n",
    "plt.show()"
   ]
  },
  {
   "attachments": {},
   "cell_type": "markdown",
   "metadata": {},
   "source": [
    "Para conocer los coeficientes que utiliza PCA para sus componentes, se puede hacer lo siguiente."
   ]
  },
  {
   "cell_type": "code",
   "execution_count": 121,
   "metadata": {},
   "outputs": [
    {
     "data": {
      "text/html": [
       "<div>\n",
       "<style scoped>\n",
       "    .dataframe tbody tr th:only-of-type {\n",
       "        vertical-align: middle;\n",
       "    }\n",
       "\n",
       "    .dataframe tbody tr th {\n",
       "        vertical-align: top;\n",
       "    }\n",
       "\n",
       "    .dataframe thead th {\n",
       "        text-align: right;\n",
       "    }\n",
       "</style>\n",
       "<table border=\"1\" class=\"dataframe\">\n",
       "  <thead>\n",
       "    <tr style=\"text-align: right;\">\n",
       "      <th></th>\n",
       "      <th>pca1</th>\n",
       "      <th>pca2</th>\n",
       "      <th>pca3</th>\n",
       "    </tr>\n",
       "  </thead>\n",
       "  <tbody>\n",
       "    <tr>\n",
       "      <th>WD</th>\n",
       "      <td>0.998834</td>\n",
       "      <td>0.026121</td>\n",
       "      <td>-0.039702</td>\n",
       "    </tr>\n",
       "    <tr>\n",
       "      <th>BP</th>\n",
       "      <td>0.038865</td>\n",
       "      <td>-0.097383</td>\n",
       "      <td>0.946602</td>\n",
       "    </tr>\n",
       "    <tr>\n",
       "      <th>RH</th>\n",
       "      <td>0.018499</td>\n",
       "      <td>-0.972513</td>\n",
       "      <td>-0.139062</td>\n",
       "    </tr>\n",
       "    <tr>\n",
       "      <th>SO2</th>\n",
       "      <td>0.001626</td>\n",
       "      <td>0.030966</td>\n",
       "      <td>0.163665</td>\n",
       "    </tr>\n",
       "    <tr>\n",
       "      <th>RF</th>\n",
       "      <td>0.000025</td>\n",
       "      <td>-0.000136</td>\n",
       "      <td>-0.000177</td>\n",
       "    </tr>\n",
       "    <tr>\n",
       "      <th>SR</th>\n",
       "      <td>-0.000480</td>\n",
       "      <td>0.005347</td>\n",
       "      <td>0.001192</td>\n",
       "    </tr>\n",
       "    <tr>\n",
       "      <th>WV</th>\n",
       "      <td>-0.010495</td>\n",
       "      <td>0.047643</td>\n",
       "      <td>-0.119113</td>\n",
       "    </tr>\n",
       "    <tr>\n",
       "      <th>T</th>\n",
       "      <td>-0.019125</td>\n",
       "      <td>0.201977</td>\n",
       "      <td>-0.205070</td>\n",
       "    </tr>\n",
       "  </tbody>\n",
       "</table>\n",
       "</div>"
      ],
      "text/plain": [
       "         pca1      pca2      pca3\n",
       "WD   0.998834  0.026121 -0.039702\n",
       "BP   0.038865 -0.097383  0.946602\n",
       "RH   0.018499 -0.972513 -0.139062\n",
       "SO2  0.001626  0.030966  0.163665\n",
       "RF   0.000025 -0.000136 -0.000177\n",
       "SR  -0.000480  0.005347  0.001192\n",
       "WV  -0.010495  0.047643 -0.119113\n",
       "T   -0.019125  0.201977 -0.205070"
      ]
     },
     "execution_count": 121,
     "metadata": {},
     "output_type": "execute_result"
    }
   ],
   "source": [
    "# Coeficientes del PCA\n",
    "pca_coef = pd.DataFrame(\n",
    "  data    = pca_model.components_,\n",
    "  columns = x_scaled.columns,\n",
    "  index = ['pca1', 'pca2', 'pca3']\n",
    ").T.sort_values('pca1', ascending=False)\n",
    "pca_coef"
   ]
  },
  {
   "cell_type": "code",
   "execution_count": 135,
   "metadata": {},
   "outputs": [
    {
     "data": {
      "text/plain": [
       "'0.9988 \\text{WD} + 0.0389 \\text{BP} + 0.0185 \\text{RH} + 0.0016 \\text{SO2} + 0.0 \\text{RF} + -0.0005 \\text{SR} + -0.0105 \\text{WV} + -0.0191 \\text{T} + '"
      ]
     },
     "execution_count": 135,
     "metadata": {},
     "output_type": "execute_result"
    }
   ],
   "source": [
    "formula = ''\n",
    "for i, r in pca_coef.iterrows():\n",
    "    formula = formula +  str(round(r.pca1, 4)) + ' \\text{' + i + '} + '\n",
    "formula"
   ]
  },
  {
   "attachments": {},
   "cell_type": "markdown",
   "metadata": {},
   "source": [
    "$$\\text{PCA}_1 = 0.9988 \\cdot \\text{WD} + 0.0389 \\cdot \\text{BP} + 0.0185 \\cdot \\text{RH} + 0.0016 \\cdot \\text{SO2} + 0.0 \\cdot \\text{RF} + -0.0005 \\cdot \\text{SR} + -0.0105 \\cdot \\text{WV} + -0.0191 \\.cdot \\text{T}.$$"
   ]
  },
  {
   "attachments": {},
   "cell_type": "markdown",
   "metadata": {},
   "source": [
    "# [ ] Métodos embebidos"
   ]
  },
  {
   "attachments": {},
   "cell_type": "markdown",
   "metadata": {},
   "source": [
    "## Tarea en clase (2 puntos)\n",
    "\n",
    "- Aplica algún método de filtro a tus datos mediante el uso de [SelectKBest](https://scikit-learn.org/stable/modules/generated/sklearn.feature_selection.SelectKBest.html)"
   ]
  },
  {
   "attachments": {},
   "cell_type": "markdown",
   "metadata": {},
   "source": [
    "## Tarea (8 puntos)\n",
    "\n",
    "- Aplica los modelos de selección de características cuidando los supuestos de cada modelo\n",
    "- Busca una o varias métricas para seleccionar características en literatura relacionada con tu problema (cita tus fuentes)\n",
    "- Con base en tu investigación, determina las características más relevantes de tu conjunto de datos\n",
    "- Discute por qué crees que las características seleccionadas son las más relevantes y por qué el resto quedaron excluidas en la selección"
   ]
  },
  {
   "attachments": {},
   "cell_type": "markdown",
   "metadata": {},
   "source": [
    "# Referencias\n",
    "- https://machinelearningmastery.com/feature-selection-with-real-and-categorical-data/\n",
    "- https://neptune.ai/blog/feature-selection-methods\n",
    "- https://www.simplilearn.com/tutorials/machine-learning-tutorial/feature-selection-in-machine-learning\n",
    "- https://www.analyticsvidhya.com/blog/2020/10/feature-selection-techniques-in-machine-learning/\n",
    "- https://scikit-learn.org/stable/modules/feature_selection.html\n",
    "- https://www.kaggle.com/code/ar2017/basics-of-feature-selection-with-python\n",
    "- https://www.blog.trainindata.com/feature-selection-machine-learning-with-python/\n",
    "- https://github.com/AutoViML/featurewiz ⭐"
   ]
  }
 ],
 "metadata": {
  "kernelspec": {
   "display_name": "ds",
   "language": "python",
   "name": "python3"
  },
  "language_info": {
   "codemirror_mode": {
    "name": "ipython",
    "version": 3
   },
   "file_extension": ".py",
   "mimetype": "text/x-python",
   "name": "python",
   "nbconvert_exporter": "python",
   "pygments_lexer": "ipython3",
   "version": "3.11.0"
  },
  "orig_nbformat": 4,
  "vscode": {
   "interpreter": {
    "hash": "73cfb11ebb5098915952b858e6200bb38d79de5587d8fc0575441f97863c5189"
   }
  }
 },
 "nbformat": 4,
 "nbformat_minor": 2
}
