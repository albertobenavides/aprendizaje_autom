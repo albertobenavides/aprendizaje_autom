{
 "cells": [
  {
   "attachments": {},
   "cell_type": "markdown",
   "metadata": {},
   "source": [
    "# Extracción de características\n",
    "\n",
    "## k-medias"
   ]
  },
  {
   "attachments": {},
   "cell_type": "markdown",
   "metadata": {},
   "source": [
    "- https://machinelearningmastery.com/feature-selection-with-real-and-categorical-data/\n",
    "- https://neptune.ai/blog/feature-selection-methods\n",
    "- https://www.simplilearn.com/tutorials/machine-learning-tutorial/feature-selection-in-machine-learning\n",
    "- https://www.analyticsvidhya.com/blog/2020/10/feature-selection-techniques-in-machine-learning/\n",
    "- https://scikit-learn.org/stable/modules/feature_selection.html#feature-selection"
   ]
  }
 ],
 "metadata": {
  "language_info": {
   "name": "python"
  },
  "orig_nbformat": 4
 },
 "nbformat": 4,
 "nbformat_minor": 2
}
