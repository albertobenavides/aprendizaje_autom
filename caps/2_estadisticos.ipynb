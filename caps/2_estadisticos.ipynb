{
 "cells": [
  {
   "attachments": {},
   "cell_type": "markdown",
   "metadata": {},
   "source": [
    "# Estadística descriptiva básica"
   ]
  },
  {
   "attachments": {},
   "cell_type": "markdown",
   "metadata": {},
   "source": [
    "## Estadísticos"
   ]
  },
  {
   "cell_type": "code",
   "execution_count": 1,
   "metadata": {},
   "outputs": [],
   "source": [
    "import pandas as pd"
   ]
  },
  {
   "cell_type": "code",
   "execution_count": 2,
   "metadata": {},
   "outputs": [
    {
     "data": {
      "text/html": [
       "<div>\n",
       "<style scoped>\n",
       "    .dataframe tbody tr th:only-of-type {\n",
       "        vertical-align: middle;\n",
       "    }\n",
       "\n",
       "    .dataframe tbody tr th {\n",
       "        vertical-align: top;\n",
       "    }\n",
       "\n",
       "    .dataframe thead th {\n",
       "        text-align: right;\n",
       "    }\n",
       "</style>\n",
       "<table border=\"1\" class=\"dataframe\">\n",
       "  <thead>\n",
       "    <tr style=\"text-align: right;\">\n",
       "      <th></th>\n",
       "      <th>timestamp</th>\n",
       "      <th>lat</th>\n",
       "      <th>lon</th>\n",
       "      <th>h</th>\n",
       "      <th>variable</th>\n",
       "      <th>value</th>\n",
       "    </tr>\n",
       "  </thead>\n",
       "  <tbody>\n",
       "    <tr>\n",
       "      <th>0</th>\n",
       "      <td>2017-01-01 00:00:00</td>\n",
       "      <td>25.670</td>\n",
       "      <td>-100.338</td>\n",
       "      <td>560</td>\n",
       "      <td>PM10</td>\n",
       "      <td>143.0</td>\n",
       "    </tr>\n",
       "    <tr>\n",
       "      <th>1</th>\n",
       "      <td>2017-01-01 01:00:00</td>\n",
       "      <td>25.670</td>\n",
       "      <td>-100.338</td>\n",
       "      <td>560</td>\n",
       "      <td>PM10</td>\n",
       "      <td>183.0</td>\n",
       "    </tr>\n",
       "    <tr>\n",
       "      <th>2</th>\n",
       "      <td>2017-01-01 02:00:00</td>\n",
       "      <td>25.670</td>\n",
       "      <td>-100.338</td>\n",
       "      <td>560</td>\n",
       "      <td>PM10</td>\n",
       "      <td>142.0</td>\n",
       "    </tr>\n",
       "    <tr>\n",
       "      <th>3</th>\n",
       "      <td>2017-01-01 03:00:00</td>\n",
       "      <td>25.670</td>\n",
       "      <td>-100.338</td>\n",
       "      <td>560</td>\n",
       "      <td>PM10</td>\n",
       "      <td>101.0</td>\n",
       "    </tr>\n",
       "    <tr>\n",
       "      <th>4</th>\n",
       "      <td>2017-01-01 04:00:00</td>\n",
       "      <td>25.670</td>\n",
       "      <td>-100.338</td>\n",
       "      <td>560</td>\n",
       "      <td>PM10</td>\n",
       "      <td>85.0</td>\n",
       "    </tr>\n",
       "    <tr>\n",
       "      <th>...</th>\n",
       "      <td>...</td>\n",
       "      <td>...</td>\n",
       "      <td>...</td>\n",
       "      <td>...</td>\n",
       "      <td>...</td>\n",
       "      <td>...</td>\n",
       "    </tr>\n",
       "    <tr>\n",
       "      <th>5124400</th>\n",
       "      <td>2019-12-31 19:00:00</td>\n",
       "      <td>25.665</td>\n",
       "      <td>-100.413</td>\n",
       "      <td>636</td>\n",
       "      <td>WD</td>\n",
       "      <td>82.0</td>\n",
       "    </tr>\n",
       "    <tr>\n",
       "      <th>5124401</th>\n",
       "      <td>2019-12-31 20:00:00</td>\n",
       "      <td>25.665</td>\n",
       "      <td>-100.413</td>\n",
       "      <td>636</td>\n",
       "      <td>WD</td>\n",
       "      <td>87.0</td>\n",
       "    </tr>\n",
       "    <tr>\n",
       "      <th>5124402</th>\n",
       "      <td>2019-12-31 21:00:00</td>\n",
       "      <td>25.665</td>\n",
       "      <td>-100.413</td>\n",
       "      <td>636</td>\n",
       "      <td>WD</td>\n",
       "      <td>98.0</td>\n",
       "    </tr>\n",
       "    <tr>\n",
       "      <th>5124403</th>\n",
       "      <td>2019-12-31 22:00:00</td>\n",
       "      <td>25.665</td>\n",
       "      <td>-100.413</td>\n",
       "      <td>636</td>\n",
       "      <td>WD</td>\n",
       "      <td>104.0</td>\n",
       "    </tr>\n",
       "    <tr>\n",
       "      <th>5124404</th>\n",
       "      <td>2019-12-31 23:00:00</td>\n",
       "      <td>25.665</td>\n",
       "      <td>-100.413</td>\n",
       "      <td>636</td>\n",
       "      <td>WD</td>\n",
       "      <td>137.0</td>\n",
       "    </tr>\n",
       "  </tbody>\n",
       "</table>\n",
       "<p>5124405 rows × 6 columns</p>\n",
       "</div>"
      ],
      "text/plain": [
       "                   timestamp     lat      lon    h variable  value\n",
       "0        2017-01-01 00:00:00  25.670 -100.338  560     PM10  143.0\n",
       "1        2017-01-01 01:00:00  25.670 -100.338  560     PM10  183.0\n",
       "2        2017-01-01 02:00:00  25.670 -100.338  560     PM10  142.0\n",
       "3        2017-01-01 03:00:00  25.670 -100.338  560     PM10  101.0\n",
       "4        2017-01-01 04:00:00  25.670 -100.338  560     PM10   85.0\n",
       "...                      ...     ...      ...  ...      ...    ...\n",
       "5124400  2019-12-31 19:00:00  25.665 -100.413  636       WD   82.0\n",
       "5124401  2019-12-31 20:00:00  25.665 -100.413  636       WD   87.0\n",
       "5124402  2019-12-31 21:00:00  25.665 -100.413  636       WD   98.0\n",
       "5124403  2019-12-31 22:00:00  25.665 -100.413  636       WD  104.0\n",
       "5124404  2019-12-31 23:00:00  25.665 -100.413  636       WD  137.0\n",
       "\n",
       "[5124405 rows x 6 columns]"
      ]
     },
     "execution_count": 2,
     "metadata": {},
     "output_type": "execute_result"
    }
   ],
   "source": [
    "df_sel = pd.read_csv('../data/results/df_sel.csv')\n",
    "df_sel"
   ]
  },
  {
   "cell_type": "code",
   "execution_count": 3,
   "metadata": {},
   "outputs": [
    {
     "data": {
      "text/plain": [
       "pandas.core.frame.DataFrame"
      ]
     },
     "execution_count": 3,
     "metadata": {},
     "output_type": "execute_result"
    }
   ],
   "source": [
    "# Tipo de dato\n",
    "type(df_sel)"
   ]
  },
  {
   "cell_type": "code",
   "execution_count": 4,
   "metadata": {},
   "outputs": [
    {
     "data": {
      "text/plain": [
       "timestamp     object\n",
       "lat          float64\n",
       "lon          float64\n",
       "h              int64\n",
       "variable      object\n",
       "value        float64\n",
       "dtype: object"
      ]
     },
     "execution_count": 4,
     "metadata": {},
     "output_type": "execute_result"
    }
   ],
   "source": [
    "# Tipo de datos de las columnas\n",
    "df_sel.dtypes"
   ]
  },
  {
   "cell_type": "code",
   "execution_count": 5,
   "metadata": {},
   "outputs": [],
   "source": [
    "# A dato temporal\n",
    "df_sel.timestamp = pd.to_datetime(df_sel.timestamp)"
   ]
  },
  {
   "cell_type": "code",
   "execution_count": 6,
   "metadata": {},
   "outputs": [
    {
     "data": {
      "text/plain": [
       "timestamp    datetime64[ns]\n",
       "lat                 float64\n",
       "lon                 float64\n",
       "h                     int64\n",
       "variable             object\n",
       "value               float64\n",
       "dtype: object"
      ]
     },
     "execution_count": 6,
     "metadata": {},
     "output_type": "execute_result"
    }
   ],
   "source": [
    "df_sel.dtypes"
   ]
  },
  {
   "attachments": {},
   "cell_type": "markdown",
   "metadata": {},
   "source": [
    "Rápidamente se pueden encontrar descriptores estadísticos de los datos con `describe`."
   ]
  },
  {
   "cell_type": "code",
   "execution_count": 7,
   "metadata": {},
   "outputs": [
    {
     "data": {
      "text/html": [
       "<div>\n",
       "<style scoped>\n",
       "    .dataframe tbody tr th:only-of-type {\n",
       "        vertical-align: middle;\n",
       "    }\n",
       "\n",
       "    .dataframe tbody tr th {\n",
       "        vertical-align: top;\n",
       "    }\n",
       "\n",
       "    .dataframe thead th {\n",
       "        text-align: right;\n",
       "    }\n",
       "</style>\n",
       "<table border=\"1\" class=\"dataframe\">\n",
       "  <thead>\n",
       "    <tr style=\"text-align: right;\">\n",
       "      <th></th>\n",
       "      <th>lat</th>\n",
       "      <th>lon</th>\n",
       "      <th>h</th>\n",
       "      <th>value</th>\n",
       "    </tr>\n",
       "  </thead>\n",
       "  <tbody>\n",
       "    <tr>\n",
       "      <th>count</th>\n",
       "      <td>5.124405e+06</td>\n",
       "      <td>5.124405e+06</td>\n",
       "      <td>5.124405e+06</td>\n",
       "      <td>3.441764e+06</td>\n",
       "    </tr>\n",
       "    <tr>\n",
       "      <th>mean</th>\n",
       "      <td>2.568126e+01</td>\n",
       "      <td>-1.002964e+02</td>\n",
       "      <td>5.370769e+02</td>\n",
       "      <td>9.051482e+01</td>\n",
       "    </tr>\n",
       "    <tr>\n",
       "      <th>std</th>\n",
       "      <td>1.118940e-01</td>\n",
       "      <td>1.476078e-01</td>\n",
       "      <td>1.092896e+02</td>\n",
       "      <td>1.998082e+02</td>\n",
       "    </tr>\n",
       "    <tr>\n",
       "      <th>min</th>\n",
       "      <td>2.536000e+01</td>\n",
       "      <td>-1.005860e+02</td>\n",
       "      <td>3.400000e+02</td>\n",
       "      <td>-2.060000e+01</td>\n",
       "    </tr>\n",
       "    <tr>\n",
       "      <th>25%</th>\n",
       "      <td>2.566500e+01</td>\n",
       "      <td>-1.003660e+02</td>\n",
       "      <td>4.760000e+02</td>\n",
       "      <td>1.970000e+00</td>\n",
       "    </tr>\n",
       "    <tr>\n",
       "      <th>50%</th>\n",
       "      <td>2.567600e+01</td>\n",
       "      <td>-1.003099e+02</td>\n",
       "      <td>5.280000e+02</td>\n",
       "      <td>1.616000e+01</td>\n",
       "    </tr>\n",
       "    <tr>\n",
       "      <th>75%</th>\n",
       "      <td>2.575700e+01</td>\n",
       "      <td>-1.002489e+02</td>\n",
       "      <td>6.300000e+02</td>\n",
       "      <td>5.600000e+01</td>\n",
       "    </tr>\n",
       "    <tr>\n",
       "      <th>max</th>\n",
       "      <td>2.580000e+01</td>\n",
       "      <td>-9.999550e+01</td>\n",
       "      <td>7.160000e+02</td>\n",
       "      <td>2.134000e+03</td>\n",
       "    </tr>\n",
       "  </tbody>\n",
       "</table>\n",
       "</div>"
      ],
      "text/plain": [
       "                lat           lon             h         value\n",
       "count  5.124405e+06  5.124405e+06  5.124405e+06  3.441764e+06\n",
       "mean   2.568126e+01 -1.002964e+02  5.370769e+02  9.051482e+01\n",
       "std    1.118940e-01  1.476078e-01  1.092896e+02  1.998082e+02\n",
       "min    2.536000e+01 -1.005860e+02  3.400000e+02 -2.060000e+01\n",
       "25%    2.566500e+01 -1.003660e+02  4.760000e+02  1.970000e+00\n",
       "50%    2.567600e+01 -1.003099e+02  5.280000e+02  1.616000e+01\n",
       "75%    2.575700e+01 -1.002489e+02  6.300000e+02  5.600000e+01\n",
       "max    2.580000e+01 -9.999550e+01  7.160000e+02  2.134000e+03"
      ]
     },
     "execution_count": 7,
     "metadata": {},
     "output_type": "execute_result"
    }
   ],
   "source": [
    "df_sel.describe()"
   ]
  },
  {
   "attachments": {},
   "cell_type": "markdown",
   "metadata": {},
   "source": [
    "Pero esto no es muy informativo dado que hay diferentes variables, estaciones de monitoreo y tiempos de lectura. Para ello se puede separar el conjunto de datos en subconjuntos. Por ejemplo, por variable."
   ]
  },
  {
   "cell_type": "code",
   "execution_count": 8,
   "metadata": {},
   "outputs": [],
   "source": [
    "gp_sel_variable = df_sel.groupby('variable')"
   ]
  },
  {
   "attachments": {},
   "cell_type": "markdown",
   "metadata": {},
   "source": [
    "Esto se puede iterar (se muestra sólo una iteración como ejemplo)."
   ]
  },
  {
   "cell_type": "code",
   "execution_count": 12,
   "metadata": {},
   "outputs": [
    {
     "name": "stdout",
     "output_type": "stream",
     "text": [
      "BP\n"
     ]
    },
    {
     "data": {
      "text/html": [
       "<div>\n",
       "<style scoped>\n",
       "    .dataframe tbody tr th:only-of-type {\n",
       "        vertical-align: middle;\n",
       "    }\n",
       "\n",
       "    .dataframe tbody tr th {\n",
       "        vertical-align: top;\n",
       "    }\n",
       "\n",
       "    .dataframe thead th {\n",
       "        text-align: right;\n",
       "    }\n",
       "</style>\n",
       "<table border=\"1\" class=\"dataframe\">\n",
       "  <thead>\n",
       "    <tr style=\"text-align: right;\">\n",
       "      <th></th>\n",
       "      <th>timestamp</th>\n",
       "      <th>lat</th>\n",
       "      <th>lon</th>\n",
       "      <th>h</th>\n",
       "      <th>variable</th>\n",
       "      <th>value</th>\n",
       "    </tr>\n",
       "  </thead>\n",
       "  <tbody>\n",
       "    <tr>\n",
       "      <th>3416270</th>\n",
       "      <td>2017-01-01 00:00:00</td>\n",
       "      <td>25.670</td>\n",
       "      <td>-100.338</td>\n",
       "      <td>560</td>\n",
       "      <td>BP</td>\n",
       "      <td>709.2</td>\n",
       "    </tr>\n",
       "    <tr>\n",
       "      <th>3416271</th>\n",
       "      <td>2017-01-01 01:00:00</td>\n",
       "      <td>25.670</td>\n",
       "      <td>-100.338</td>\n",
       "      <td>560</td>\n",
       "      <td>BP</td>\n",
       "      <td>708.9</td>\n",
       "    </tr>\n",
       "    <tr>\n",
       "      <th>3416272</th>\n",
       "      <td>2017-01-01 02:00:00</td>\n",
       "      <td>25.670</td>\n",
       "      <td>-100.338</td>\n",
       "      <td>560</td>\n",
       "      <td>BP</td>\n",
       "      <td>708.5</td>\n",
       "    </tr>\n",
       "    <tr>\n",
       "      <th>3416273</th>\n",
       "      <td>2017-01-01 03:00:00</td>\n",
       "      <td>25.670</td>\n",
       "      <td>-100.338</td>\n",
       "      <td>560</td>\n",
       "      <td>BP</td>\n",
       "      <td>708.2</td>\n",
       "    </tr>\n",
       "    <tr>\n",
       "      <th>3416274</th>\n",
       "      <td>2017-01-01 04:00:00</td>\n",
       "      <td>25.670</td>\n",
       "      <td>-100.338</td>\n",
       "      <td>560</td>\n",
       "      <td>BP</td>\n",
       "      <td>707.9</td>\n",
       "    </tr>\n",
       "    <tr>\n",
       "      <th>...</th>\n",
       "      <td>...</td>\n",
       "      <td>...</td>\n",
       "      <td>...</td>\n",
       "      <td>...</td>\n",
       "      <td>...</td>\n",
       "      <td>...</td>\n",
       "    </tr>\n",
       "    <tr>\n",
       "      <th>3757892</th>\n",
       "      <td>2019-12-31 19:00:00</td>\n",
       "      <td>25.665</td>\n",
       "      <td>-100.413</td>\n",
       "      <td>636</td>\n",
       "      <td>BP</td>\n",
       "      <td>715.1</td>\n",
       "    </tr>\n",
       "    <tr>\n",
       "      <th>3757893</th>\n",
       "      <td>2019-12-31 20:00:00</td>\n",
       "      <td>25.665</td>\n",
       "      <td>-100.413</td>\n",
       "      <td>636</td>\n",
       "      <td>BP</td>\n",
       "      <td>714.9</td>\n",
       "    </tr>\n",
       "    <tr>\n",
       "      <th>3757894</th>\n",
       "      <td>2019-12-31 21:00:00</td>\n",
       "      <td>25.665</td>\n",
       "      <td>-100.413</td>\n",
       "      <td>636</td>\n",
       "      <td>BP</td>\n",
       "      <td>715.0</td>\n",
       "    </tr>\n",
       "    <tr>\n",
       "      <th>3757895</th>\n",
       "      <td>2019-12-31 22:00:00</td>\n",
       "      <td>25.665</td>\n",
       "      <td>-100.413</td>\n",
       "      <td>636</td>\n",
       "      <td>BP</td>\n",
       "      <td>715.1</td>\n",
       "    </tr>\n",
       "    <tr>\n",
       "      <th>3757896</th>\n",
       "      <td>2019-12-31 23:00:00</td>\n",
       "      <td>25.665</td>\n",
       "      <td>-100.413</td>\n",
       "      <td>636</td>\n",
       "      <td>BP</td>\n",
       "      <td>715.0</td>\n",
       "    </tr>\n",
       "  </tbody>\n",
       "</table>\n",
       "<p>341627 rows × 6 columns</p>\n",
       "</div>"
      ],
      "text/plain": [
       "                  timestamp     lat      lon    h variable  value\n",
       "3416270 2017-01-01 00:00:00  25.670 -100.338  560       BP  709.2\n",
       "3416271 2017-01-01 01:00:00  25.670 -100.338  560       BP  708.9\n",
       "3416272 2017-01-01 02:00:00  25.670 -100.338  560       BP  708.5\n",
       "3416273 2017-01-01 03:00:00  25.670 -100.338  560       BP  708.2\n",
       "3416274 2017-01-01 04:00:00  25.670 -100.338  560       BP  707.9\n",
       "...                     ...     ...      ...  ...      ...    ...\n",
       "3757892 2019-12-31 19:00:00  25.665 -100.413  636       BP  715.1\n",
       "3757893 2019-12-31 20:00:00  25.665 -100.413  636       BP  714.9\n",
       "3757894 2019-12-31 21:00:00  25.665 -100.413  636       BP  715.0\n",
       "3757895 2019-12-31 22:00:00  25.665 -100.413  636       BP  715.1\n",
       "3757896 2019-12-31 23:00:00  25.665 -100.413  636       BP  715.0\n",
       "\n",
       "[341627 rows x 6 columns]"
      ]
     },
     "metadata": {},
     "output_type": "display_data"
    },
    {
     "name": "stdout",
     "output_type": "stream",
     "text": [
      "Etcétera\n"
     ]
    }
   ],
   "source": [
    "for name, group in gp_sel_variable:\n",
    "    print(name)\n",
    "    display(group)\n",
    "    print('Etcétera')\n",
    "    break"
   ]
  },
  {
   "attachments": {},
   "cell_type": "markdown",
   "metadata": {},
   "source": [
    "También es posible filtrar resultados."
   ]
  },
  {
   "cell_type": "code",
   "execution_count": 13,
   "metadata": {},
   "outputs": [],
   "source": [
    "df_pm10 = df_sel[df_sel.variable == 'PM10']"
   ]
  },
  {
   "attachments": {},
   "cell_type": "markdown",
   "metadata": {},
   "source": [
    "Ya con esto, se pueden obtener el resumen estadístico de los datos."
   ]
  },
  {
   "cell_type": "code",
   "execution_count": 18,
   "metadata": {},
   "outputs": [
    {
     "data": {
      "text/plain": [
       "count    308536.000000\n",
       "mean         59.192723\n",
       "std          42.661375\n",
       "min           2.000000\n",
       "25%          32.000000\n",
       "50%          49.000000\n",
       "75%          74.000000\n",
       "max         791.000000\n",
       "Name: value, dtype: float64"
      ]
     },
     "execution_count": 18,
     "metadata": {},
     "output_type": "execute_result"
    }
   ],
   "source": [
    "df_pm10.value.describe()"
   ]
  },
  {
   "attachments": {},
   "cell_type": "markdown",
   "metadata": {},
   "source": [
    "## Medidas de tendencia central"
   ]
  },
  {
   "attachments": {},
   "cell_type": "markdown",
   "metadata": {},
   "source": [
    "### Media\n",
    "\n",
    "Suma de todos los elementos $x_i$ de conjunto $X$ dividida entre el número total de elementos $n$,\n",
    "$$\\sum_i^n x_i / n.$$"
   ]
  },
  {
   "attachments": {},
   "cell_type": "markdown",
   "metadata": {},
   "source": [
    "Aunque se pueden usar funciones nativas de Python o integradas de `pandas` o `numpy` para los cálculos de los estadísticos, aprovecharemos esta sección para conocer la librería [`statistics`](https://docs.python.org/3/library/statistics.html)."
   ]
  },
  {
   "cell_type": "code",
   "execution_count": 19,
   "metadata": {},
   "outputs": [],
   "source": [
    "import statistics"
   ]
  },
  {
   "cell_type": "code",
   "execution_count": 20,
   "metadata": {},
   "outputs": [
    {
     "data": {
      "text/plain": [
       "nan"
      ]
     },
     "execution_count": 20,
     "metadata": {},
     "output_type": "execute_result"
    }
   ],
   "source": [
    "statistics.mean(df_pm10.value)"
   ]
  },
  {
   "attachments": {},
   "cell_type": "markdown",
   "metadata": {},
   "source": [
    "Aquí tenemos un problema, pues aparece `nan` como resultado de la media. Esto sucede porque en el conjunto de registros de `value` hay valores no numéricos (_not a number_ o `nan`). Veamos cuántos `nan` hay."
   ]
  },
  {
   "cell_type": "code",
   "execution_count": 33,
   "metadata": {},
   "outputs": [
    {
     "data": {
      "text/html": [
       "<div>\n",
       "<style scoped>\n",
       "    .dataframe tbody tr th:only-of-type {\n",
       "        vertical-align: middle;\n",
       "    }\n",
       "\n",
       "    .dataframe tbody tr th {\n",
       "        vertical-align: top;\n",
       "    }\n",
       "\n",
       "    .dataframe thead th {\n",
       "        text-align: right;\n",
       "    }\n",
       "</style>\n",
       "<table border=\"1\" class=\"dataframe\">\n",
       "  <thead>\n",
       "    <tr style=\"text-align: right;\">\n",
       "      <th></th>\n",
       "      <th>timestamp</th>\n",
       "      <th>lat</th>\n",
       "      <th>lon</th>\n",
       "      <th>h</th>\n",
       "      <th>variable</th>\n",
       "      <th>value</th>\n",
       "    </tr>\n",
       "  </thead>\n",
       "  <tbody>\n",
       "    <tr>\n",
       "      <th>0</th>\n",
       "      <td>False</td>\n",
       "      <td>False</td>\n",
       "      <td>False</td>\n",
       "      <td>False</td>\n",
       "      <td>False</td>\n",
       "      <td>False</td>\n",
       "    </tr>\n",
       "    <tr>\n",
       "      <th>1</th>\n",
       "      <td>False</td>\n",
       "      <td>False</td>\n",
       "      <td>False</td>\n",
       "      <td>False</td>\n",
       "      <td>False</td>\n",
       "      <td>False</td>\n",
       "    </tr>\n",
       "    <tr>\n",
       "      <th>2</th>\n",
       "      <td>False</td>\n",
       "      <td>False</td>\n",
       "      <td>False</td>\n",
       "      <td>False</td>\n",
       "      <td>False</td>\n",
       "      <td>False</td>\n",
       "    </tr>\n",
       "    <tr>\n",
       "      <th>3</th>\n",
       "      <td>False</td>\n",
       "      <td>False</td>\n",
       "      <td>False</td>\n",
       "      <td>False</td>\n",
       "      <td>False</td>\n",
       "      <td>False</td>\n",
       "    </tr>\n",
       "    <tr>\n",
       "      <th>4</th>\n",
       "      <td>False</td>\n",
       "      <td>False</td>\n",
       "      <td>False</td>\n",
       "      <td>False</td>\n",
       "      <td>False</td>\n",
       "      <td>False</td>\n",
       "    </tr>\n",
       "    <tr>\n",
       "      <th>...</th>\n",
       "      <td>...</td>\n",
       "      <td>...</td>\n",
       "      <td>...</td>\n",
       "      <td>...</td>\n",
       "      <td>...</td>\n",
       "      <td>...</td>\n",
       "    </tr>\n",
       "    <tr>\n",
       "      <th>341622</th>\n",
       "      <td>False</td>\n",
       "      <td>False</td>\n",
       "      <td>False</td>\n",
       "      <td>False</td>\n",
       "      <td>False</td>\n",
       "      <td>False</td>\n",
       "    </tr>\n",
       "    <tr>\n",
       "      <th>341623</th>\n",
       "      <td>False</td>\n",
       "      <td>False</td>\n",
       "      <td>False</td>\n",
       "      <td>False</td>\n",
       "      <td>False</td>\n",
       "      <td>False</td>\n",
       "    </tr>\n",
       "    <tr>\n",
       "      <th>341624</th>\n",
       "      <td>False</td>\n",
       "      <td>False</td>\n",
       "      <td>False</td>\n",
       "      <td>False</td>\n",
       "      <td>False</td>\n",
       "      <td>False</td>\n",
       "    </tr>\n",
       "    <tr>\n",
       "      <th>341625</th>\n",
       "      <td>False</td>\n",
       "      <td>False</td>\n",
       "      <td>False</td>\n",
       "      <td>False</td>\n",
       "      <td>False</td>\n",
       "      <td>False</td>\n",
       "    </tr>\n",
       "    <tr>\n",
       "      <th>341626</th>\n",
       "      <td>False</td>\n",
       "      <td>False</td>\n",
       "      <td>False</td>\n",
       "      <td>False</td>\n",
       "      <td>False</td>\n",
       "      <td>False</td>\n",
       "    </tr>\n",
       "  </tbody>\n",
       "</table>\n",
       "<p>341627 rows × 6 columns</p>\n",
       "</div>"
      ],
      "text/plain": [
       "        timestamp    lat    lon      h  variable  value\n",
       "0           False  False  False  False     False  False\n",
       "1           False  False  False  False     False  False\n",
       "2           False  False  False  False     False  False\n",
       "3           False  False  False  False     False  False\n",
       "4           False  False  False  False     False  False\n",
       "...           ...    ...    ...    ...       ...    ...\n",
       "341622      False  False  False  False     False  False\n",
       "341623      False  False  False  False     False  False\n",
       "341624      False  False  False  False     False  False\n",
       "341625      False  False  False  False     False  False\n",
       "341626      False  False  False  False     False  False\n",
       "\n",
       "[341627 rows x 6 columns]"
      ]
     },
     "execution_count": 33,
     "metadata": {},
     "output_type": "execute_result"
    }
   ],
   "source": [
    "# Qué celdas son nan\n",
    "df_pm10.isna()"
   ]
  },
  {
   "cell_type": "code",
   "execution_count": 41,
   "metadata": {},
   "outputs": [
    {
     "data": {
      "text/plain": [
       "timestamp        0\n",
       "lat              0\n",
       "lon              0\n",
       "h                0\n",
       "variable         0\n",
       "value        33091\n",
       "dtype: int64"
      ]
     },
     "execution_count": 41,
     "metadata": {},
     "output_type": "execute_result"
    }
   ],
   "source": [
    "# Total de nan por columna\n",
    "df_pm10.isna().sum(axis=0)"
   ]
  },
  {
   "cell_type": "code",
   "execution_count": 39,
   "metadata": {},
   "outputs": [
    {
     "data": {
      "text/plain": [
       "0         0\n",
       "1         0\n",
       "2         0\n",
       "3         0\n",
       "4         0\n",
       "         ..\n",
       "341622    0\n",
       "341623    0\n",
       "341624    0\n",
       "341625    0\n",
       "341626    0\n",
       "Length: 341627, dtype: int64"
      ]
     },
     "execution_count": 39,
     "metadata": {},
     "output_type": "execute_result"
    }
   ],
   "source": [
    "# Total de nan por fila (aquí es trivial calcularlo)\n",
    "df_pm10.isna().sum(axis=1)"
   ]
  },
  {
   "cell_type": "code",
   "execution_count": 42,
   "metadata": {},
   "outputs": [
    {
     "data": {
      "text/plain": [
       "0         False\n",
       "1         False\n",
       "2         False\n",
       "3         False\n",
       "4         False\n",
       "          ...  \n",
       "341622    False\n",
       "341623    False\n",
       "341624    False\n",
       "341625    False\n",
       "341626    False\n",
       "Name: value, Length: 341627, dtype: bool"
      ]
     },
     "execution_count": 42,
     "metadata": {},
     "output_type": "execute_result"
    }
   ],
   "source": [
    "# Con esto vemos cuáles valores son nan\n",
    "filtro = df_pm10.value.isna()\n",
    "filtro"
   ]
  },
  {
   "cell_type": "code",
   "execution_count": 26,
   "metadata": {},
   "outputs": [
    {
     "data": {
      "text/html": [
       "<div>\n",
       "<style scoped>\n",
       "    .dataframe tbody tr th:only-of-type {\n",
       "        vertical-align: middle;\n",
       "    }\n",
       "\n",
       "    .dataframe tbody tr th {\n",
       "        vertical-align: top;\n",
       "    }\n",
       "\n",
       "    .dataframe thead th {\n",
       "        text-align: right;\n",
       "    }\n",
       "</style>\n",
       "<table border=\"1\" class=\"dataframe\">\n",
       "  <thead>\n",
       "    <tr style=\"text-align: right;\">\n",
       "      <th></th>\n",
       "      <th>timestamp</th>\n",
       "      <th>lat</th>\n",
       "      <th>lon</th>\n",
       "      <th>h</th>\n",
       "      <th>variable</th>\n",
       "      <th>value</th>\n",
       "    </tr>\n",
       "  </thead>\n",
       "  <tbody>\n",
       "    <tr>\n",
       "      <th>219</th>\n",
       "      <td>2017-01-10 03:00:00</td>\n",
       "      <td>25.670</td>\n",
       "      <td>-100.338</td>\n",
       "      <td>560</td>\n",
       "      <td>PM10</td>\n",
       "      <td>NaN</td>\n",
       "    </tr>\n",
       "    <tr>\n",
       "      <th>232</th>\n",
       "      <td>2017-01-10 16:00:00</td>\n",
       "      <td>25.670</td>\n",
       "      <td>-100.338</td>\n",
       "      <td>560</td>\n",
       "      <td>PM10</td>\n",
       "      <td>NaN</td>\n",
       "    </tr>\n",
       "    <tr>\n",
       "      <th>255</th>\n",
       "      <td>2017-01-11 15:00:00</td>\n",
       "      <td>25.670</td>\n",
       "      <td>-100.338</td>\n",
       "      <td>560</td>\n",
       "      <td>PM10</td>\n",
       "      <td>NaN</td>\n",
       "    </tr>\n",
       "    <tr>\n",
       "      <th>294</th>\n",
       "      <td>2017-01-13 06:00:00</td>\n",
       "      <td>25.670</td>\n",
       "      <td>-100.338</td>\n",
       "      <td>560</td>\n",
       "      <td>PM10</td>\n",
       "      <td>NaN</td>\n",
       "    </tr>\n",
       "    <tr>\n",
       "      <th>419</th>\n",
       "      <td>2017-01-18 11:00:00</td>\n",
       "      <td>25.670</td>\n",
       "      <td>-100.338</td>\n",
       "      <td>560</td>\n",
       "      <td>PM10</td>\n",
       "      <td>NaN</td>\n",
       "    </tr>\n",
       "    <tr>\n",
       "      <th>...</th>\n",
       "      <td>...</td>\n",
       "      <td>...</td>\n",
       "      <td>...</td>\n",
       "      <td>...</td>\n",
       "      <td>...</td>\n",
       "      <td>...</td>\n",
       "    </tr>\n",
       "    <tr>\n",
       "      <th>341424</th>\n",
       "      <td>2019-12-23 13:00:00</td>\n",
       "      <td>25.665</td>\n",
       "      <td>-100.413</td>\n",
       "      <td>636</td>\n",
       "      <td>PM10</td>\n",
       "      <td>NaN</td>\n",
       "    </tr>\n",
       "    <tr>\n",
       "      <th>341425</th>\n",
       "      <td>2019-12-23 14:00:00</td>\n",
       "      <td>25.665</td>\n",
       "      <td>-100.413</td>\n",
       "      <td>636</td>\n",
       "      <td>PM10</td>\n",
       "      <td>NaN</td>\n",
       "    </tr>\n",
       "    <tr>\n",
       "      <th>341426</th>\n",
       "      <td>2019-12-23 15:00:00</td>\n",
       "      <td>25.665</td>\n",
       "      <td>-100.413</td>\n",
       "      <td>636</td>\n",
       "      <td>PM10</td>\n",
       "      <td>NaN</td>\n",
       "    </tr>\n",
       "    <tr>\n",
       "      <th>341476</th>\n",
       "      <td>2019-12-25 17:00:00</td>\n",
       "      <td>25.665</td>\n",
       "      <td>-100.413</td>\n",
       "      <td>636</td>\n",
       "      <td>PM10</td>\n",
       "      <td>NaN</td>\n",
       "    </tr>\n",
       "    <tr>\n",
       "      <th>341603</th>\n",
       "      <td>2019-12-31 00:00:00</td>\n",
       "      <td>25.665</td>\n",
       "      <td>-100.413</td>\n",
       "      <td>636</td>\n",
       "      <td>PM10</td>\n",
       "      <td>NaN</td>\n",
       "    </tr>\n",
       "  </tbody>\n",
       "</table>\n",
       "<p>33091 rows × 6 columns</p>\n",
       "</div>"
      ],
      "text/plain": [
       "                 timestamp     lat      lon    h variable  value\n",
       "219    2017-01-10 03:00:00  25.670 -100.338  560     PM10    NaN\n",
       "232    2017-01-10 16:00:00  25.670 -100.338  560     PM10    NaN\n",
       "255    2017-01-11 15:00:00  25.670 -100.338  560     PM10    NaN\n",
       "294    2017-01-13 06:00:00  25.670 -100.338  560     PM10    NaN\n",
       "419    2017-01-18 11:00:00  25.670 -100.338  560     PM10    NaN\n",
       "...                    ...     ...      ...  ...      ...    ...\n",
       "341424 2019-12-23 13:00:00  25.665 -100.413  636     PM10    NaN\n",
       "341425 2019-12-23 14:00:00  25.665 -100.413  636     PM10    NaN\n",
       "341426 2019-12-23 15:00:00  25.665 -100.413  636     PM10    NaN\n",
       "341476 2019-12-25 17:00:00  25.665 -100.413  636     PM10    NaN\n",
       "341603 2019-12-31 00:00:00  25.665 -100.413  636     PM10    NaN\n",
       "\n",
       "[33091 rows x 6 columns]"
      ]
     },
     "execution_count": 26,
     "metadata": {},
     "output_type": "execute_result"
    }
   ],
   "source": [
    "# Esto nos devuelve las filas que son True en el filtro anterior\n",
    "# O sea, todos los nan en value\n",
    "df_pm10_nan = df_pm10[filtro]\n",
    "df_pm10_nan"
   ]
  },
  {
   "attachments": {},
   "cell_type": "markdown",
   "metadata": {},
   "source": [
    "Podemos contarlos."
   ]
  },
  {
   "cell_type": "code",
   "execution_count": 27,
   "metadata": {},
   "outputs": [
    {
     "data": {
      "text/plain": [
       "33091"
      ]
     },
     "execution_count": 27,
     "metadata": {},
     "output_type": "execute_result"
    }
   ],
   "source": [
    "len(df_pm10_nan)"
   ]
  },
  {
   "cell_type": "markdown",
   "metadata": {},
   "source": [
    "También se puede encontrar la proporción de valores faltantes."
   ]
  },
  {
   "cell_type": "code",
   "execution_count": 28,
   "metadata": {},
   "outputs": [
    {
     "data": {
      "text/plain": [
       "0.09686295286965023"
      ]
     },
     "execution_count": 28,
     "metadata": {},
     "output_type": "execute_result"
    }
   ],
   "source": [
    "len(df_pm10_nan) / len(df_pm10)"
   ]
  },
  {
   "attachments": {},
   "cell_type": "markdown",
   "metadata": {},
   "source": [
    "Ahora, pueden realizarse varias estrategias para calcular la media de estos valores. La más común es ignorar los `nan`."
   ]
  },
  {
   "cell_type": "code",
   "execution_count": 30,
   "metadata": {},
   "outputs": [
    {
     "data": {
      "text/html": [
       "<div>\n",
       "<style scoped>\n",
       "    .dataframe tbody tr th:only-of-type {\n",
       "        vertical-align: middle;\n",
       "    }\n",
       "\n",
       "    .dataframe tbody tr th {\n",
       "        vertical-align: top;\n",
       "    }\n",
       "\n",
       "    .dataframe thead th {\n",
       "        text-align: right;\n",
       "    }\n",
       "</style>\n",
       "<table border=\"1\" class=\"dataframe\">\n",
       "  <thead>\n",
       "    <tr style=\"text-align: right;\">\n",
       "      <th></th>\n",
       "      <th>timestamp</th>\n",
       "      <th>lat</th>\n",
       "      <th>lon</th>\n",
       "      <th>h</th>\n",
       "      <th>variable</th>\n",
       "      <th>value</th>\n",
       "    </tr>\n",
       "  </thead>\n",
       "  <tbody>\n",
       "    <tr>\n",
       "      <th>0</th>\n",
       "      <td>2017-01-01 00:00:00</td>\n",
       "      <td>25.670</td>\n",
       "      <td>-100.338</td>\n",
       "      <td>560</td>\n",
       "      <td>PM10</td>\n",
       "      <td>143.0</td>\n",
       "    </tr>\n",
       "    <tr>\n",
       "      <th>1</th>\n",
       "      <td>2017-01-01 01:00:00</td>\n",
       "      <td>25.670</td>\n",
       "      <td>-100.338</td>\n",
       "      <td>560</td>\n",
       "      <td>PM10</td>\n",
       "      <td>183.0</td>\n",
       "    </tr>\n",
       "    <tr>\n",
       "      <th>2</th>\n",
       "      <td>2017-01-01 02:00:00</td>\n",
       "      <td>25.670</td>\n",
       "      <td>-100.338</td>\n",
       "      <td>560</td>\n",
       "      <td>PM10</td>\n",
       "      <td>142.0</td>\n",
       "    </tr>\n",
       "    <tr>\n",
       "      <th>3</th>\n",
       "      <td>2017-01-01 03:00:00</td>\n",
       "      <td>25.670</td>\n",
       "      <td>-100.338</td>\n",
       "      <td>560</td>\n",
       "      <td>PM10</td>\n",
       "      <td>101.0</td>\n",
       "    </tr>\n",
       "    <tr>\n",
       "      <th>4</th>\n",
       "      <td>2017-01-01 04:00:00</td>\n",
       "      <td>25.670</td>\n",
       "      <td>-100.338</td>\n",
       "      <td>560</td>\n",
       "      <td>PM10</td>\n",
       "      <td>85.0</td>\n",
       "    </tr>\n",
       "    <tr>\n",
       "      <th>...</th>\n",
       "      <td>...</td>\n",
       "      <td>...</td>\n",
       "      <td>...</td>\n",
       "      <td>...</td>\n",
       "      <td>...</td>\n",
       "      <td>...</td>\n",
       "    </tr>\n",
       "    <tr>\n",
       "      <th>341622</th>\n",
       "      <td>2019-12-31 19:00:00</td>\n",
       "      <td>25.665</td>\n",
       "      <td>-100.413</td>\n",
       "      <td>636</td>\n",
       "      <td>PM10</td>\n",
       "      <td>12.0</td>\n",
       "    </tr>\n",
       "    <tr>\n",
       "      <th>341623</th>\n",
       "      <td>2019-12-31 20:00:00</td>\n",
       "      <td>25.665</td>\n",
       "      <td>-100.413</td>\n",
       "      <td>636</td>\n",
       "      <td>PM10</td>\n",
       "      <td>15.0</td>\n",
       "    </tr>\n",
       "    <tr>\n",
       "      <th>341624</th>\n",
       "      <td>2019-12-31 21:00:00</td>\n",
       "      <td>25.665</td>\n",
       "      <td>-100.413</td>\n",
       "      <td>636</td>\n",
       "      <td>PM10</td>\n",
       "      <td>20.0</td>\n",
       "    </tr>\n",
       "    <tr>\n",
       "      <th>341625</th>\n",
       "      <td>2019-12-31 22:00:00</td>\n",
       "      <td>25.665</td>\n",
       "      <td>-100.413</td>\n",
       "      <td>636</td>\n",
       "      <td>PM10</td>\n",
       "      <td>20.0</td>\n",
       "    </tr>\n",
       "    <tr>\n",
       "      <th>341626</th>\n",
       "      <td>2019-12-31 23:00:00</td>\n",
       "      <td>25.665</td>\n",
       "      <td>-100.413</td>\n",
       "      <td>636</td>\n",
       "      <td>PM10</td>\n",
       "      <td>20.0</td>\n",
       "    </tr>\n",
       "  </tbody>\n",
       "</table>\n",
       "<p>308536 rows × 6 columns</p>\n",
       "</div>"
      ],
      "text/plain": [
       "                 timestamp     lat      lon    h variable  value\n",
       "0      2017-01-01 00:00:00  25.670 -100.338  560     PM10  143.0\n",
       "1      2017-01-01 01:00:00  25.670 -100.338  560     PM10  183.0\n",
       "2      2017-01-01 02:00:00  25.670 -100.338  560     PM10  142.0\n",
       "3      2017-01-01 03:00:00  25.670 -100.338  560     PM10  101.0\n",
       "4      2017-01-01 04:00:00  25.670 -100.338  560     PM10   85.0\n",
       "...                    ...     ...      ...  ...      ...    ...\n",
       "341622 2019-12-31 19:00:00  25.665 -100.413  636     PM10   12.0\n",
       "341623 2019-12-31 20:00:00  25.665 -100.413  636     PM10   15.0\n",
       "341624 2019-12-31 21:00:00  25.665 -100.413  636     PM10   20.0\n",
       "341625 2019-12-31 22:00:00  25.665 -100.413  636     PM10   20.0\n",
       "341626 2019-12-31 23:00:00  25.665 -100.413  636     PM10   20.0\n",
       "\n",
       "[308536 rows x 6 columns]"
      ]
     },
     "execution_count": 30,
     "metadata": {},
     "output_type": "execute_result"
    }
   ],
   "source": [
    "# Elimina los valores nan\n",
    "df_pm10.dropna()"
   ]
  },
  {
   "cell_type": "code",
   "execution_count": 48,
   "metadata": {},
   "outputs": [
    {
     "data": {
      "text/plain": [
       "59.19272334508777"
      ]
     },
     "execution_count": 48,
     "metadata": {},
     "output_type": "execute_result"
    }
   ],
   "source": [
    "# Media sin nan\n",
    "statistics.mean(df_pm10.value.dropna())"
   ]
  },
  {
   "cell_type": "code",
   "execution_count": 49,
   "metadata": {},
   "outputs": [
    {
     "data": {
      "text/plain": [
       "59.19272334508777"
      ]
     },
     "execution_count": 49,
     "metadata": {},
     "output_type": "execute_result"
    }
   ],
   "source": [
    "# Cálculo de media más rápida\n",
    "statistics.fmean(df_pm10.value.dropna())"
   ]
  },
  {
   "cell_type": "markdown",
   "metadata": {},
   "source": [
    "### Mediana"
   ]
  },
  {
   "cell_type": "markdown",
   "metadata": {},
   "source": [
    "### Moda"
   ]
  },
  {
   "cell_type": "markdown",
   "metadata": {},
   "source": [
    "## Medidas de dispersión"
   ]
  },
  {
   "cell_type": "markdown",
   "metadata": {},
   "source": [
    "\n",
    "## Visualización\n",
    "\n",
    "## Pruebas de normalidad\n",
    "\n",
    "## Paramétricos y no paramétricos\n",
    "\n",
    "## Pruebas de correlación"
   ]
  },
  {
   "attachments": {},
   "cell_type": "markdown",
   "metadata": {},
   "source": [
    "- https://machinelearningmastery.com/statistical-hypothesis-tests/"
   ]
  }
 ],
 "metadata": {
  "kernelspec": {
   "display_name": "ds",
   "language": "python",
   "name": "python3"
  },
  "language_info": {
   "codemirror_mode": {
    "name": "ipython",
    "version": 3
   },
   "file_extension": ".py",
   "mimetype": "text/x-python",
   "name": "python",
   "nbconvert_exporter": "python",
   "pygments_lexer": "ipython3",
   "version": "3.11.0"
  },
  "orig_nbformat": 4,
  "vscode": {
   "interpreter": {
    "hash": "73cfb11ebb5098915952b858e6200bb38d79de5587d8fc0575441f97863c5189"
   }
  }
 },
 "nbformat": 4,
 "nbformat_minor": 2
}
