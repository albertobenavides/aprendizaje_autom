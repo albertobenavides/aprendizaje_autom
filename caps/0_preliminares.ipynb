{
 "cells": [
  {
   "attachments": {},
   "cell_type": "markdown",
   "metadata": {},
   "source": [
    "# Preliminares\n",
    "\n",
    "## ¿Qué es el aprendizaje automático?\n",
    "\n",
    "- Se usa para predecir y clasificar.\n",
    "\n",
    "- Usado en estadística, minería de datos, inteligencia artificial.\n",
    "\n",
    "## Prerrequisitos\n",
    "\n",
    "### Control de versiones\n",
    "\n",
    "El **control de versiones** se usa para seguir cambios en proyectos informáticos individuales o colaborativos. Los cambios se almacenan virtualmente en un *repositorio*. Las versiones del código se guardan mediante *commits* o instantáneas, que pueden compararse o recuperarse. Estas versiones pueden ramificarse, modificarse independientemente e implementarse de manera ordenada.\n",
    "\n",
    "(Git)[https://git-scm.com/] es el sistema más usado para control de versiones. (Github)[https://github.com/] es un servidor que hospeda repositorios de manera gratuita.\n",
    "\n",
    "#### Instrucciones esenciales de Git\n",
    "\n",
    "```\n",
    "rem Iniciar un repositorio en una carpeta\n",
    "git init\n",
    "\n",
    "rem Clonar un repositorio existente\n",
    "git clone url\n",
    "\n",
    "rem Estado del repositorio\n",
    "git status\n",
    "\n",
    "rem Preparar un archivo o directorio\n",
    "git add <archivo_o_directorio>\n",
    "\n",
    "rem Desagregar un archivo o directorio\n",
    "git reset arch\n",
    "\n",
    "rem Crear un commit\n",
    "git commit -m \"Mensaje\"\n",
    "\n",
    "rem Crea una rama\n",
    "git branch <rama>\n",
    "\n",
    "rem Cambia a una rama\n",
    "git checkout <rama>\n",
    "\n",
    "rem Une una rama a la actual\n",
    "git merge <rama>\n",
    "\n",
    "rem Añadir la url como remoto\n",
    "git remote add <nombre> <url>\n",
    "\n",
    "rem Enviar actualizaciones a un remoto\n",
    "git push <remoto> <rama>\n",
    "\n",
    "rem Obtiene cambios de un repositorio remoto\n",
    "git pull <remoto>\n",
    "\n",
    "rem Deshacer cambios\n",
    "git reset –hard\n",
    "\n",
    "rem Borrar archivos nuevos\n",
    "git clean -fxd\n",
    "```\n",
    "\n",
    "#### `.gitignore`\n",
    "\n",
    "En el archivo `.gitignore` se especifican qué archivos o carpetas deben ser excluidos del control de versiones.\n",
    "\n",
    "### Markdown\n",
    "\n",
    "```markdown\n",
    "# Encabezado 1\n",
    "# Encabezado 2\n",
    "\n",
    "Párrafo con *cursiva*, **negritas**, ~~tachados~~.\n",
    "\n",
    "1. Lista\n",
    "2. Numerada\n",
    "\n",
    "* Lista\n",
    "* No ordenada\n",
    "\n",
    "[Vínculo a Google](www.google.com)\n",
    "\n",
    "![Imagen](https://fakeimg.pl/150/)\n",
    "\n",
    "`código`\n",
    "```"
   ]
  },
  {
   "attachments": {},
   "cell_type": "markdown",
   "metadata": {},
   "source": [
    "### Python"
   ]
  },
  {
   "attachments": {},
   "cell_type": "markdown",
   "metadata": {},
   "source": [
    "Comentarios"
   ]
  },
  {
   "cell_type": "code",
   "execution_count": 1,
   "metadata": {},
   "outputs": [],
   "source": [
    "# Los comentarios empiezan por #\n",
    "# El compilador ignora estas líneas"
   ]
  },
  {
   "attachments": {},
   "cell_type": "markdown",
   "metadata": {},
   "source": [
    "Imprimir en consola"
   ]
  },
  {
   "cell_type": "code",
   "execution_count": 2,
   "metadata": {},
   "outputs": [
    {
     "name": "stdout",
     "output_type": "stream",
     "text": [
      "Así se imprime algo en pantalla\n"
     ]
    }
   ],
   "source": [
    "print (\"Así se imprime algo en pantalla\")"
   ]
  },
  {
   "attachments": {},
   "cell_type": "markdown",
   "metadata": {},
   "source": [
    "Operadores aritméticos"
   ]
  },
  {
   "cell_type": "code",
   "execution_count": 5,
   "metadata": {},
   "outputs": [
    {
     "data": {
      "text/plain": [
       "3"
      ]
     },
     "execution_count": 5,
     "metadata": {},
     "output_type": "execute_result"
    }
   ],
   "source": [
    "# Suma\n",
    "1 + 2"
   ]
  },
  {
   "cell_type": "code",
   "execution_count": 6,
   "metadata": {},
   "outputs": [
    {
     "data": {
      "text/plain": [
       "-2"
      ]
     },
     "execution_count": 6,
     "metadata": {},
     "output_type": "execute_result"
    }
   ],
   "source": [
    "# Resta\n",
    "2 - 4"
   ]
  },
  {
   "cell_type": "code",
   "execution_count": 7,
   "metadata": {},
   "outputs": [
    {
     "data": {
      "text/plain": [
       "21"
      ]
     },
     "execution_count": 7,
     "metadata": {},
     "output_type": "execute_result"
    }
   ],
   "source": [
    "# Producto\n",
    "3 * 7"
   ]
  },
  {
   "cell_type": "code",
   "execution_count": 8,
   "metadata": {},
   "outputs": [
    {
     "data": {
      "text/plain": [
       "3.0"
      ]
     },
     "execution_count": 8,
     "metadata": {},
     "output_type": "execute_result"
    }
   ],
   "source": [
    "# División \n",
    "9 / 3"
   ]
  },
  {
   "cell_type": "code",
   "execution_count": 9,
   "metadata": {},
   "outputs": [
    {
     "data": {
      "text/plain": [
       "8"
      ]
     },
     "execution_count": 9,
     "metadata": {},
     "output_type": "execute_result"
    }
   ],
   "source": [
    "# Potencia\n",
    "2 ** 3"
   ]
  },
  {
   "cell_type": "code",
   "execution_count": 10,
   "metadata": {},
   "outputs": [
    {
     "data": {
      "text/plain": [
       "4.0"
      ]
     },
     "execution_count": 10,
     "metadata": {},
     "output_type": "execute_result"
    }
   ],
   "source": [
    "# Raíz\n",
    "16 ** 0.5"
   ]
  },
  {
   "attachments": {},
   "cell_type": "markdown",
   "metadata": {},
   "source": [
    "Variables y (algunos) tipos de datos"
   ]
  },
  {
   "cell_type": "code",
   "execution_count": 21,
   "metadata": {},
   "outputs": [],
   "source": [
    "# Las variables almacenan datos mediante el operador de asignación =\n",
    "entero = 1\n",
    "flotante = 1.0\n",
    "cadena = \"1.0\"\n",
    "booleano = True"
   ]
  },
  {
   "attachments": {},
   "cell_type": "markdown",
   "metadata": {},
   "source": [
    "Conversión entre tipos de datos"
   ]
  },
  {
   "cell_type": "code",
   "execution_count": 16,
   "metadata": {},
   "outputs": [
    {
     "data": {
      "text/plain": [
       "1"
      ]
     },
     "execution_count": 16,
     "metadata": {},
     "output_type": "execute_result"
    }
   ],
   "source": [
    "int(flotante)"
   ]
  },
  {
   "cell_type": "code",
   "execution_count": 17,
   "metadata": {},
   "outputs": [
    {
     "data": {
      "text/plain": [
       "1.0"
      ]
     },
     "execution_count": 17,
     "metadata": {},
     "output_type": "execute_result"
    }
   ],
   "source": [
    "float(entero)"
   ]
  },
  {
   "cell_type": "code",
   "execution_count": 19,
   "metadata": {},
   "outputs": [
    {
     "data": {
      "text/plain": [
       "1.0"
      ]
     },
     "execution_count": 19,
     "metadata": {},
     "output_type": "execute_result"
    }
   ],
   "source": [
    "float(cadena)"
   ]
  },
  {
   "cell_type": "code",
   "execution_count": 22,
   "metadata": {},
   "outputs": [
    {
     "data": {
      "text/plain": [
       "'True'"
      ]
     },
     "execution_count": 22,
     "metadata": {},
     "output_type": "execute_result"
    }
   ],
   "source": [
    "str(booleano)"
   ]
  },
  {
   "cell_type": "code",
   "execution_count": 23,
   "metadata": {},
   "outputs": [
    {
     "data": {
      "text/plain": [
       "True"
      ]
     },
     "execution_count": 23,
     "metadata": {},
     "output_type": "execute_result"
    }
   ],
   "source": [
    "bool(flotante)"
   ]
  },
  {
   "attachments": {},
   "cell_type": "markdown",
   "metadata": {},
   "source": [
    "Operaciones con cadenas"
   ]
  },
  {
   "cell_type": "code",
   "execution_count": 24,
   "metadata": {},
   "outputs": [
    {
     "name": "stdout",
     "output_type": "stream",
     "text": [
      "dos más dos es 4\n"
     ]
    }
   ],
   "source": [
    "# Se pueden concatenar\n",
    "print(\"dos más dos es \" + str(2 + 2))"
   ]
  },
  {
   "cell_type": "code",
   "execution_count": 25,
   "metadata": {},
   "outputs": [],
   "source": [
    "cadena = 'abcdefghijklmnñopqrstuvwxyz'"
   ]
  },
  {
   "cell_type": "code",
   "execution_count": 26,
   "metadata": {},
   "outputs": [
    {
     "data": {
      "text/plain": [
       "'a'"
      ]
     },
     "execution_count": 26,
     "metadata": {},
     "output_type": "execute_result"
    }
   ],
   "source": [
    "# Primer elemento\n",
    "cadena[0]"
   ]
  },
  {
   "cell_type": "code",
   "execution_count": 27,
   "metadata": {},
   "outputs": [
    {
     "data": {
      "text/plain": [
       "'z'"
      ]
     },
     "execution_count": 27,
     "metadata": {},
     "output_type": "execute_result"
    }
   ],
   "source": [
    "# Último elemento\n",
    "cadena[-1]"
   ]
  },
  {
   "cell_type": "code",
   "execution_count": 28,
   "metadata": {},
   "outputs": [
    {
     "data": {
      "text/plain": [
       "'cde'"
      ]
     },
     "execution_count": 28,
     "metadata": {},
     "output_type": "execute_result"
    }
   ],
   "source": [
    "# Rango de elementos\n",
    "cadena[2:5]"
   ]
  },
  {
   "cell_type": "code",
   "execution_count": 29,
   "metadata": {},
   "outputs": [
    {
     "data": {
      "text/plain": [
       "27"
      ]
     },
     "execution_count": 29,
     "metadata": {},
     "output_type": "execute_result"
    }
   ],
   "source": [
    "# Cantidad de elementos\n",
    "len(cadena)"
   ]
  },
  {
   "attachments": {},
   "cell_type": "markdown",
   "metadata": {},
   "source": [
    "Operaciones con variables"
   ]
  },
  {
   "cell_type": "code",
   "execution_count": 37,
   "metadata": {},
   "outputs": [],
   "source": [
    "a = 3\n",
    "b = 2\n",
    "c = None\n"
   ]
  },
  {
   "cell_type": "code",
   "execution_count": 38,
   "metadata": {},
   "outputs": [],
   "source": [
    "# Asignación = Actualización\n",
    "a = a + a\n",
    "b = b + a"
   ]
  },
  {
   "cell_type": "code",
   "execution_count": 39,
   "metadata": {},
   "outputs": [],
   "source": [
    "# Orden de operaciones\n",
    "c = a * b + a / b + (2 + 3 * b - (5 / 2) % 4) + 5 * b"
   ]
  },
  {
   "cell_type": "code",
   "execution_count": 40,
   "metadata": {},
   "outputs": [],
   "source": [
    "# Módulo (residuo)\n",
    "c = a % b # ¿Valor?\n",
    "c = b % a # ¿Valor?"
   ]
  },
  {
   "cell_type": "code",
   "execution_count": 65,
   "metadata": {},
   "outputs": [
    {
     "data": {
      "text/plain": [
       "11.25"
      ]
     },
     "execution_count": 65,
     "metadata": {},
     "output_type": "execute_result"
    }
   ],
   "source": [
    "d = 2.5\n",
    "e = 4.5\n",
    "\n",
    "d * e"
   ]
  },
  {
   "cell_type": "code",
   "execution_count": 66,
   "metadata": {},
   "outputs": [
    {
     "data": {
      "text/plain": [
       "22.5"
      ]
     },
     "execution_count": 66,
     "metadata": {},
     "output_type": "execute_result"
    }
   ],
   "source": [
    "# _ guarda el último valor impreso\n",
    "f = _ + _\n",
    "f"
   ]
  },
  {
   "cell_type": "code",
   "execution_count": 71,
   "metadata": {},
   "outputs": [
    {
     "data": {
      "text/plain": [
       "3.214286"
      ]
     },
     "execution_count": 71,
     "metadata": {},
     "output_type": "execute_result"
    }
   ],
   "source": [
    "# Redondeo\n",
    "round(f / 7, 6)"
   ]
  },
  {
   "attachments": {},
   "cell_type": "markdown",
   "metadata": {},
   "source": [
    "---\n",
    "\n",
    "## Actividad en clase\n",
    "\n",
    "Crear repositorio para el curso que contenga \n",
    "- una breve descripción en el `read.me` (primer commit)\n",
    "- un archivo Jupyter para la primera tarea (segundo commit)\n",
    "\n",
    "El repositorio debe tener al menos dos commits."
   ]
  },
  {
   "attachments": {},
   "cell_type": "markdown",
   "metadata": {},
   "source": [
    "---\n",
    "\n",
    "## Fuentes\n",
    "\n",
    "- https://www.atlassian.com/git/tutorials/learn-git-with-bitbucket-cloud\n",
    "- https://daringfireball.net/projects/markdown/syntax\n",
    "- https://www.w3schools.com/python/python_ref_string.asp"
   ]
  }
 ],
 "metadata": {
  "kernelspec": {
   "display_name": "ds",
   "language": "python",
   "name": "python3"
  },
  "language_info": {
   "codemirror_mode": {
    "name": "ipython",
    "version": 3
   },
   "file_extension": ".py",
   "mimetype": "text/x-python",
   "name": "python",
   "nbconvert_exporter": "python",
   "pygments_lexer": "ipython3",
   "version": "3.11.0 | packaged by conda-forge | (main, Oct 25 2022, 06:12:32) [MSC v.1929 64 bit (AMD64)]"
  },
  "orig_nbformat": 4,
  "vscode": {
   "interpreter": {
    "hash": "73cfb11ebb5098915952b858e6200bb38d79de5587d8fc0575441f97863c5189"
   }
  }
 },
 "nbformat": 4,
 "nbformat_minor": 2
}
