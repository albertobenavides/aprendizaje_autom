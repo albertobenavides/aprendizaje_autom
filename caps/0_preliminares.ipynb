{
 "cells": [
  {
   "attachments": {},
   "cell_type": "markdown",
   "metadata": {
    "slideshow": {
     "slide_type": "slide"
    }
   },
   "source": [
    "# Preliminares"
   ]
  },
  {
   "attachments": {},
   "cell_type": "markdown",
   "metadata": {},
   "source": [
    "\n",
    "## ¿Qué es el aprendizaje automático?\n",
    "\n",
    "- Se usa para predecir y clasificar.\n",
    "\n",
    "- Usado en estadística, minería de datos, inteligencia artificial.\n",
    "\n",
    "- [The human regression ensemble](https://justindomke.wordpress.com/2021/09/28/the-human-regression-ensemble/)"
   ]
  },
  {
   "attachments": {},
   "cell_type": "markdown",
   "metadata": {},
   "source": [
    "## Control de versiones\n",
    "\n",
    "El **control de versiones** se usa para seguir cambios en proyectos informáticos individuales o colaborativos. Los cambios se almacenan virtualmente en un *repositorio*. Las versiones del código se guardan mediante *commits* o instantáneas, que pueden compararse o recuperarse. Estas versiones pueden ramificarse, modificarse independientemente e implementarse de manera ordenada.\n",
    "\n",
    "(Git)[https://git-scm.com/] es el sistema más usado para control de versiones. (Github)[https://github.com/] es un servidor que hospeda repositorios de manera gratuita."
   ]
  },
  {
   "attachments": {},
   "cell_type": "markdown",
   "metadata": {},
   "source": [
    "## Instrucciones esenciales de Git\n",
    "\n",
    "```\n",
    "rem Iniciar un repositorio en una carpeta\n",
    "git init\n",
    "\n",
    "rem Clonar un repositorio existente\n",
    "git clone url\n",
    "\n",
    "rem Estado del repositorio\n",
    "git status\n",
    "\n",
    "rem Preparar un archivo o directorio\n",
    "git add <archivo_o_directorio>\n",
    "\n",
    "rem Desagregar un archivo o directorio\n",
    "git reset arch\n",
    "\n",
    "rem Crear un commit\n",
    "git commit -m \"Mensaje\"\n",
    "\n",
    "rem Crea una rama\n",
    "git branch <rama>\n",
    "\n",
    "rem Cambia a una rama\n",
    "git checkout <rama>\n",
    "\n",
    "rem Une una rama a la actual\n",
    "git merge <rama>\n",
    "\n",
    "rem Añadir la url como remoto\n",
    "git remote add <nombre> <url>\n",
    "\n",
    "rem Enviar actualizaciones a un remoto\n",
    "git push <remoto> <rama>\n",
    "\n",
    "rem Obtiene cambios de un repositorio remoto\n",
    "git pull <remoto>\n",
    "\n",
    "rem Deshacer cambios\n",
    "git reset –hard\n",
    "\n",
    "rem Borrar archivos nuevos\n",
    "git clean -fxd\n",
    "```"
   ]
  },
  {
   "attachments": {},
   "cell_type": "markdown",
   "metadata": {},
   "source": [
    "\n",
    "## `.gitignore`\n",
    "\n",
    "En el archivo `.gitignore` se especifican qué archivos o carpetas deben ser excluidos del control de versiones."
   ]
  },
  {
   "attachments": {},
   "cell_type": "markdown",
   "metadata": {},
   "source": [
    "## Markdown\n",
    "\n",
    "```markdown\n",
    "# Encabezado 1\n",
    "# Encabezado 2\n",
    "\n",
    "Párrafo con *cursiva*, **negritas**, ~~tachados~~.\n",
    "\n",
    "1. Lista\n",
    "2. Numerada\n",
    "\n",
    "* Lista\n",
    "* No ordenada\n",
    "\n",
    "[Vínculo a Google](www.google.com)\n",
    "\n",
    "![Imagen](https://fakeimg.pl/150/)\n",
    "\n",
    "`código`\n",
    "```"
   ]
  },
  {
   "attachments": {},
   "cell_type": "markdown",
   "metadata": {},
   "source": [
    "## Python"
   ]
  },
  {
   "attachments": {},
   "cell_type": "markdown",
   "metadata": {},
   "source": [
    "- [Google Colab](https://colab.research.google.com/)\n",
    "- [Tutorial](https://colab.research.google.com/drive/1uoxgduAnH3e4Pz0YHLAyMnw2Cpilqqpy?usp=sharing)\n",
    "\n",
    "Ver integración entre Google Collab y Github."
   ]
  },
  {
   "cell_type": "markdown",
   "metadata": {},
   "source": [
    "### Instalación\n",
    "\n",
    "1. Desinstalar versiones de Python o Conda previamente instaladas\n",
    "2. Instalar mambaforge desde el link proveído en https://mamba.readthedocs.io/en/latest/installation.html\n",
    "3. Crear un entorno de Python 3.11 con mamba: `create -n new_env python=3.11.*`"
   ]
  },
  {
   "cell_type": "markdown",
   "metadata": {},
   "source": [
    "## Tarea en clase (2 puntos)\n",
    "Crear repositorio para el curso que contenga \n",
    "- un `read.me` con una breve descripción de tu repositorio para este curso (primer *commit*), y\n",
    "- un archivo Jupyter para la primera tarea con un ejemplo de regresión lineal o correlación hecho en puro Python (segundo *commit*)"
   ]
  },
  {
   "cell_type": "markdown",
   "metadata": {},
   "source": [
    "## Tarea (8 puntos)\n",
    "\n",
    "- Definir un conjunto de datos sobre el que se trabajará durante el curso\n",
    "- Justificar su elección\n",
    "- Establecer objetivos a lograr en el curso\n",
    "- Subir explicación en el repositorio en un cuaderno de Jupyter"
   ]
  },
  {
   "attachments": {},
   "cell_type": "markdown",
   "metadata": {},
   "source": [
    "---\n",
    "\n",
    "## Fuentes\n",
    "\n",
    "- https://www.atlassian.com/git/tutorials/learn-git-with-bitbucket-cloud\n",
    "- https://daringfireball.net/projects/markdown/syntax\n",
    "- https://www.w3schools.com/python/python_ref_string.asp"
   ]
  }
 ],
 "metadata": {
  "kernelspec": {
   "display_name": "ds",
   "language": "python",
   "name": "python3"
  },
  "language_info": {
   "codemirror_mode": {
    "name": "ipython",
    "version": 3
   },
   "file_extension": ".py",
   "mimetype": "text/x-python",
   "name": "python",
   "nbconvert_exporter": "python",
   "pygments_lexer": "ipython3",
   "version": "3.11.0 | packaged by conda-forge | (main, Oct 25 2022, 06:12:32) [MSC v.1929 64 bit (AMD64)]"
  },
  "orig_nbformat": 4,
  "vscode": {
   "interpreter": {
    "hash": "73cfb11ebb5098915952b858e6200bb38d79de5587d8fc0575441f97863c5189"
   }
  }
 },
 "nbformat": 4,
 "nbformat_minor": 2
}
