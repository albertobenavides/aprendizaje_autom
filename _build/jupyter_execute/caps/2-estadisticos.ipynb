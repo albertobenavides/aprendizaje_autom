{
 "cells": [
  {
   "attachments": {},
   "cell_type": "markdown",
   "metadata": {},
   "source": [
    "# Estadística descriptiva básica\n",
    "\n",
    "## Estadísticos\n",
    "\n",
    "## Visualización\n",
    "\n",
    "## Pruebas de normalidad\n",
    "\n",
    "## Paramétricos y no paramétricos\n",
    "\n",
    "## Pruebas de correlación"
   ]
  }
 ],
 "metadata": {
  "language_info": {
   "codemirror_mode": {
    "name": "ipython",
    "version": 3
   },
   "file_extension": ".py",
   "mimetype": "text/x-python",
   "name": "python",
   "nbconvert_exporter": "python",
   "pygments_lexer": "ipython3",
   "version": "3.11.0"
  }
 },
 "nbformat": 4,
 "nbformat_minor": 2
}