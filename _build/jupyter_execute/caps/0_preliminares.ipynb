{
 "cells": [
  {
   "attachments": {},
   "cell_type": "markdown",
   "metadata": {},
   "source": [
    "# Preliminares"
   ]
  },
  {
   "attachments": {},
   "cell_type": "markdown",
   "metadata": {},
   "source": [
    "\n",
    "## ¿Qué es el aprendizaje automático?\n",
    "\n",
    "- Se usa para predecir y clasificar.\n",
    "\n",
    "- Usado en estadística, minería de datos, inteligencia artificial.\n",
    "\n",
    "- [The human regression ensemble](https://justindomke.wordpress.com/2021/09/28/the-human-regression-ensemble/)"
   ]
  },
  {
   "attachments": {},
   "cell_type": "markdown",
   "metadata": {},
   "source": [
    "## Control de versiones\n",
    "\n",
    "El **control de versiones** se usa para seguir cambios en proyectos informáticos individuales o colaborativos. Los cambios se almacenan virtualmente en un *repositorio*. Las versiones del código se guardan mediante *commits* o instantáneas, que pueden compararse o recuperarse. Estas versiones pueden ramificarse, modificarse independientemente e implementarse de manera ordenada.\n",
    "\n",
    "(Git)[https://git-scm.com/] es el sistema más usado para control de versiones. (Github)[https://github.com/] es un servidor que hospeda repositorios de manera gratuita."
   ]
  },
  {
   "attachments": {},
   "cell_type": "markdown",
   "metadata": {},
   "source": [
    "## Instrucciones esenciales de Git\n",
    "\n",
    "```\n",
    "rem Iniciar un repositorio en una carpeta\n",
    "git init\n",
    "\n",
    "rem Clonar un repositorio existente\n",
    "git clone url\n",
    "\n",
    "rem Estado del repositorio\n",
    "git status\n",
    "\n",
    "rem Preparar un archivo o directorio\n",
    "git add <archivo_o_directorio>\n",
    "\n",
    "rem Desagregar un archivo o directorio\n",
    "git reset arch\n",
    "\n",
    "rem Crear un commit\n",
    "git commit -m \"Mensaje\"\n",
    "\n",
    "rem Crea una rama\n",
    "git branch <rama>\n",
    "\n",
    "rem Cambia a una rama\n",
    "git checkout <rama>\n",
    "\n",
    "rem Une una rama a la actual\n",
    "git merge <rama>\n",
    "\n",
    "rem Añadir la url como remoto\n",
    "git remote add <nombre> <url>\n",
    "\n",
    "rem Enviar actualizaciones a un remoto\n",
    "git push <remoto> <rama>\n",
    "\n",
    "rem Obtiene cambios de un repositorio remoto\n",
    "git pull <remoto>\n",
    "\n",
    "rem Deshacer cambios\n",
    "git reset –hard\n",
    "\n",
    "rem Borrar archivos nuevos\n",
    "git clean -fxd\n",
    "```"
   ]
  },
  {
   "attachments": {},
   "cell_type": "markdown",
   "metadata": {},
   "source": [
    "\n",
    "## `.gitignore`\n",
    "\n",
    "En el archivo `.gitignore` se especifican qué archivos o carpetas deben ser excluidos del control de versiones."
   ]
  },
  {
   "attachments": {},
   "cell_type": "markdown",
   "metadata": {},
   "source": [
    "## Markdown\n",
    "\n",
    "```markdown\n",
    "# Encabezado 1\n",
    "# Encabezado 2\n",
    "\n",
    "Párrafo con *cursiva*, **negritas**, ~~tachados~~.\n",
    "\n",
    "1. Lista\n",
    "2. Numerada\n",
    "\n",
    "* Lista\n",
    "* No ordenada\n",
    "\n",
    "[Vínculo a Google](www.google.com)\n",
    "\n",
    "![Imagen](https://fakeimg.pl/150/)\n",
    "\n",
    "`código`\n",
    "```"
   ]
  },
  {
   "attachments": {},
   "cell_type": "markdown",
   "metadata": {},
   "source": [
    "### Python"
   ]
  },
  {
   "attachments": {},
   "cell_type": "markdown",
   "metadata": {},
   "source": [
    "- [Google Colab](https://colab.research.google.com/)\n",
    "\n",
    "- [Tutorial](https://colab.research.google.com/drive/1uoxgduAnH3e4Pz0YHLAyMnw2Cpilqqpy?usp=sharing)"
   ]
  },
  {
   "attachments": {},
   "cell_type": "markdown",
   "metadata": {},
   "source": [
    "---\n",
    "\n",
    "## Fuentes\n",
    "\n",
    "- https://www.atlassian.com/git/tutorials/learn-git-with-bitbucket-cloud\n",
    "- https://daringfireball.net/projects/markdown/syntax\n",
    "- https://www.w3schools.com/python/python_ref_string.asp"
   ]
  }
 ],
 "metadata": {
  "kernelspec": {
   "display_name": "ds",
   "language": "python",
   "name": "python3"
  },
  "language_info": {
   "codemirror_mode": {
    "name": "ipython",
    "version": 3
   },
   "file_extension": ".py",
   "mimetype": "text/x-python",
   "name": "python",
   "nbconvert_exporter": "python",
   "pygments_lexer": "ipython3",
   "version": "3.11.0"
  },
  "vscode": {
   "interpreter": {
    "hash": "73cfb11ebb5098915952b858e6200bb38d79de5587d8fc0575441f97863c5189"
   }
  }
 },
 "nbformat": 4,
 "nbformat_minor": 2
}