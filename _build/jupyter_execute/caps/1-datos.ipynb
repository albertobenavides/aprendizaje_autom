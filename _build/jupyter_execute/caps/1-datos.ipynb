{
 "cells": [
  {
   "attachments": {},
   "cell_type": "markdown",
   "metadata": {},
   "source": [
    "# Selección y preprocesamiento\n",
    "\n",
    "## Ejemplos de bases de datos\n",
    "\n",
    "## Importar datos\n",
    "\n",
    "## Preprocesamiento\n",
    "\n",
    "## Separación"
   ]
  }
 ],
 "metadata": {
  "language_info": {
   "codemirror_mode": {
    "name": "ipython",
    "version": 3
   },
   "file_extension": ".py",
   "mimetype": "text/x-python",
   "name": "python",
   "nbconvert_exporter": "python",
   "pygments_lexer": "ipython3",
   "version": "3.11.0"
  }
 },
 "nbformat": 4,
 "nbformat_minor": 2
}