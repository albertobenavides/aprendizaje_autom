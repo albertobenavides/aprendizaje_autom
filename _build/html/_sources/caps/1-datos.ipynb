{
 "cells": [
  {
   "attachments": {},
   "cell_type": "markdown",
   "metadata": {},
   "source": [
    "# Selección y preprocesamiento\n",
    "\n",
    "## Ejemplos de bases de datos\n",
    "\n",
    "## Importar datos\n",
    "\n",
    "## Preprocesamiento\n",
    "\n",
    "## Separación"
   ]
  }
 ],
 "metadata": {
  "language_info": {
   "name": "python"
  },
  "orig_nbformat": 4
 },
 "nbformat": 4,
 "nbformat_minor": 2
}
